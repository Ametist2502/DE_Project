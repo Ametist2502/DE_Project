{
 "cells": [
  {
   "cell_type": "markdown",
   "id": "baec695c",
   "metadata": {},
   "source": [
    "#### Get latest data"
   ]
  },
  {
   "cell_type": "code",
   "execution_count": null,
   "id": "9ed795a4",
   "metadata": {},
   "outputs": [],
   "source": [
    "import requests\n",
    "import pandas as pd\n",
    "import json\n",
    "import os\n",
    "from datetime import datetime, timedelta"
   ]
  },
  {
   "cell_type": "code",
   "execution_count": null,
   "id": "c1d1e6a1",
   "metadata": {},
   "outputs": [],
   "source": [
    "import requests\n",
    "\n",
    "url = \"https://api.coingecko.com/api/v3/coins/bitcoin/ohlc\"\n",
    "\n",
    "querystring = {\"vs_currency\":\"usd\",\"days\":\"14\",\"precision\":\"full\"}\n",
    "\n",
    "headers = {\"x-cg-demo-api-key\": \"\"}\n",
    "\n",
    "response = requests.get(url, headers=headers, params=querystring)\n",
    "    \n",
    "print(response.json())"
   ]
  },
  {
   "cell_type": "code",
   "execution_count": null,
   "id": "d761a98e",
   "metadata": {},
   "outputs": [],
   "source": [
    "result = pd.DataFrame(response.json(), columns=['timestamp', 'open', 'high', 'low', 'close'])\n",
    "result['timestamp'] = pd.to_datetime(result['timestamp'], unit='ms')\n",
    "result"
   ]
  },
  {
   "cell_type": "code",
   "execution_count": null,
   "id": "c0e1f35f",
   "metadata": {},
   "outputs": [],
   "source": [
    "import requests\n",
    "import pandas as pd\n",
    "import os\n",
    "\n",
    "API_KEY = os.getenv(\"COINGECKO_API_KEY\", \"\")\n",
    "\n",
    "def get_ohlc_data(coin_id, vs_currency=\"usd\", days=1, precision=\"full\"):\n",
    "    url = f\"https://api.coingecko.com/api/v3/coins/{coin_id}/ohlc\"\n",
    "    querystring = {\"vs_currency\": vs_currency, \"days\": days, \"precision\": precision}\n",
    "    headers = {\"x-cg-demo-api-key\": API_KEY} if API_KEY else {}\n",
    "    \n",
    "    response = requests.get(url, headers=headers, params=querystring)\n",
    "    \n",
    "    if response.status_code == 200:\n",
    "        data = pd.DataFrame(response.json(), columns=['timestamp', 'open', 'high', 'low', 'close'])\n",
    "        data['timestamp'] = pd.to_datetime(data['timestamp'], unit='ms')\n",
    "        return data\n",
    "    else:\n",
    "        print(f\"Error: {response.status_code}\")\n",
    "        return None"
   ]
  },
  {
   "cell_type": "code",
   "execution_count": null,
   "id": "f6aca313",
   "metadata": {},
   "outputs": [],
   "source": [
    "data = get_ohlc_data(coin_id='bitcoin', vs_currency='usd', days=14, precision='full')"
   ]
  },
  {
   "cell_type": "code",
   "execution_count": null,
   "id": "237e0b8a",
   "metadata": {},
   "outputs": [],
   "source": [
    "data.to_csv(\"/home/anhtt1/Workspace/DE/Project/DE_Project/projects/trade_template/data/bitcoin_ohlc.csv\", index=False)"
   ]
  },
  {
   "cell_type": "code",
   "execution_count": null,
   "id": "7dfb1742",
   "metadata": {},
   "outputs": [],
   "source": [
    "df = pd.read_csv('/home/anhtt1/Workspace/DE/Project/DE_Project/projects/trade_template/data/bitcoin_ohlc.csv')"
   ]
  },
  {
   "cell_type": "code",
   "execution_count": null,
   "id": "2efa3388",
   "metadata": {},
   "outputs": [],
   "source": [
    "# --- EMA ---\n",
    "df[\"EMA_20\"] = df[\"close\"].ewm(span=20, adjust=False).mean()\n",
    "df[\"EMA_50\"] = df[\"close\"].ewm(span=50, adjust=False).mean()"
   ]
  },
  {
   "cell_type": "code",
   "execution_count": null,
   "id": "33f948bb",
   "metadata": {},
   "outputs": [],
   "source": [
    "# --- RSI ---\n",
    "def compute_rsi(series, period=14):\n",
    "    delta = series.diff()\n",
    "    gain = delta.clip(lower=0)\n",
    "    loss = -delta.clip(upper=0)\n",
    "\n",
    "    avg_gain = gain.rolling(window=period).mean()\n",
    "    avg_loss = loss.rolling(window=period).mean()\n",
    "\n",
    "    rs = avg_gain / avg_loss\n",
    "    rsi = 100 - (100 / (1 + rs))\n",
    "    return rsi\n",
    "\n",
    "df[\"RSI_14\"] = compute_rsi(df[\"close\"], 14)"
   ]
  },
  {
   "cell_type": "code",
   "execution_count": null,
   "id": "ade1365f",
   "metadata": {},
   "outputs": [],
   "source": [
    "df.to_csv(\"/home/anhtt1/Workspace/DE/Project/DE_Project/projects/trade_template/data/bitcoin_ohlc_with_indicators.csv\", index=False)"
   ]
  },
  {
   "cell_type": "markdown",
   "id": "bc254c03",
   "metadata": {},
   "source": [
    "#### Incremental"
   ]
  },
  {
   "cell_type": "code",
   "execution_count": null,
   "id": "6a45d352",
   "metadata": {},
   "outputs": [],
   "source": [
    "incremental_data = data = get_ohlc_data(coin_id='bitcoin', vs_currency='usd', days=14, precision='full')"
   ]
  },
  {
   "cell_type": "code",
   "execution_count": null,
   "id": "1c47b266",
   "metadata": {},
   "outputs": [],
   "source": [
    "incremental_data"
   ]
  },
  {
   "cell_type": "code",
   "execution_count": null,
   "id": "a94d950f",
   "metadata": {},
   "outputs": [],
   "source": [
    "# --- EMA ---\n",
    "incremental_data[\"EMA_20\"] = incremental_data[\"close\"].ewm(span=20, adjust=False).mean()\n",
    "incremental_data[\"EMA_50\"] = incremental_data[\"close\"].ewm(span=50, adjust=False).mean()\n",
    "incremental_data[\"RSI_14\"] = compute_rsi(incremental_data[\"close\"], 14)"
   ]
  },
  {
   "cell_type": "code",
   "execution_count": null,
   "id": "0fe94259",
   "metadata": {},
   "outputs": [],
   "source": [
    "incremental_data"
   ]
  },
  {
   "cell_type": "code",
   "execution_count": null,
   "id": "374f7e8f",
   "metadata": {},
   "outputs": [],
   "source": [
    "df = pd.read_csv('/home/anhtt1/Workspace/DE/Project/DE_Project/projects/trade_template/data/bitcoin_ohlc_with_indicators.csv')"
   ]
  },
  {
   "cell_type": "code",
   "execution_count": null,
   "id": "cfd9f485",
   "metadata": {},
   "outputs": [],
   "source": [
    "import pandas as pd\n",
    "\n",
    "# Convert timestamp về datetime cho chắc chắn\n",
    "df[\"timestamp\"] = pd.to_datetime(df[\"timestamp\"])\n",
    "incremental_data[\"timestamp\"] = pd.to_datetime(incremental_data[\"timestamp\"])\n"
   ]
  },
  {
   "cell_type": "code",
   "execution_count": null,
   "id": "b1e1e8ba",
   "metadata": {},
   "outputs": [],
   "source": [
    "# Tìm những timestamp có ở df2 nhưng không có ở df1\n",
    "missing_timestamps = incremental_data.loc[~incremental_data[\"timestamp\"].isin(df[\"timestamp\"])]\n"
   ]
  },
  {
   "cell_type": "code",
   "execution_count": null,
   "id": "108e8cac",
   "metadata": {},
   "outputs": [],
   "source": [
    "missing_timestamps"
   ]
  },
  {
   "cell_type": "code",
   "execution_count": null,
   "id": "bba03bae",
   "metadata": {},
   "outputs": [],
   "source": [
    "df_updated = pd.concat([df, missing_timestamps], ignore_index=True)\n",
    "df_updated = df_updated.sort_values(\"timestamp\").reset_index(drop=True)\n"
   ]
  },
  {
   "cell_type": "code",
   "execution_count": null,
   "id": "d9681873",
   "metadata": {},
   "outputs": [],
   "source": [
    "df_updated.to_csv(\"/home/anhtt1/Workspace/DE/Project/DE_Project/projects/trade_template/data/bitcoin_ohlc_with_indicators.csv\", index=False)"
   ]
  },
  {
   "cell_type": "markdown",
   "id": "f0f7eee7",
   "metadata": {},
   "source": [
    "#### Dash"
   ]
  },
  {
   "cell_type": "code",
   "execution_count": null,
   "id": "6d844f3e",
   "metadata": {},
   "outputs": [],
   "source": [
    "import matplotlib.pyplot as plt\n",
    "\n",
    "plt.figure(figsize=(12, 6))\n",
    "plt.plot(df[\"close\"], label=\"Giá đóng cửa\", color=\"black\")\n",
    "plt.plot(df[\"EMA_20\"], label=\"EMA 20\", color=\"blue\", linestyle=\"--\")\n",
    "plt.plot(df[\"EMA_50\"], label=\"EMA 50\", color=\"red\", linestyle=\"--\")\n",
    "plt.title(\"Biểu đồ giá + EMA\")\n",
    "plt.xlabel(\"Thời gian (4h mỗi điểm)\")\n",
    "plt.ylabel(\"Giá\")\n",
    "plt.legend()\n",
    "plt.grid(True)\n",
    "plt.show()"
   ]
  },
  {
   "cell_type": "code",
   "execution_count": null,
   "id": "1fa219ba",
   "metadata": {},
   "outputs": [],
   "source": [
    "import pandas as pd\n",
    "import plotly.graph_objs as go\n",
    "from dash import Dash, dcc, html\n",
    "\n",
    "# Tạo Dash app\n",
    "app = Dash(__name__)\n",
    "\n",
    "# Biểu đồ giá + EMA\n",
    "price_chart = go.Figure()\n",
    "price_chart.add_trace(go.Scatter(y=df[\"close\"], mode=\"lines\", name=\"Giá đóng cửa\", line=dict(color=\"black\")))\n",
    "price_chart.add_trace(go.Scatter(y=df[\"EMA_20\"], mode=\"lines\", name=\"EMA 20\", line=dict(color=\"blue\", dash=\"dash\")))\n",
    "price_chart.add_trace(go.Scatter(y=df[\"EMA_50\"], mode=\"lines\", name=\"EMA 50\", line=dict(color=\"red\", dash=\"dash\")))\n",
    "price_chart.update_layout(title=\"Biểu đồ Giá + EMA\", height=400)\n",
    "\n",
    "# Biểu đồ RSI\n",
    "rsi_chart = go.Figure()\n",
    "rsi_chart.add_trace(go.Scatter(y=df[\"RSI_14\"], mode=\"lines\", name=\"RSI 14\", line=dict(color=\"purple\")))\n",
    "rsi_chart.add_trace(go.Scatter(y=[70]*len(df), mode=\"lines\", name=\"Overbought\", line=dict(color=\"red\", dash=\"dot\")))\n",
    "rsi_chart.add_trace(go.Scatter(y=[30]*len(df), mode=\"lines\", name=\"Oversold\", line=dict(color=\"green\", dash=\"dot\")))\n",
    "rsi_chart.update_layout(title=\"Biểu đồ RSI\", height=300)\n",
    "\n",
    "# Layout Dash\n",
    "app.layout = html.Div([\n",
    "    html.H1(\"Dashboard EMA & RSI\", style={\"textAlign\": \"center\"}),\n",
    "    dcc.Graph(figure=price_chart),\n",
    "    dcc.Graph(figure=rsi_chart)\n",
    "])\n",
    "\n",
    "# Chạy Dash trong notebook\n",
    "# Nếu muốn hiển thị trực tiếp trong notebook:\n",
    "app.run(mode=\"inline\")\n",
    "\n",
    "# Nếu muốn mở ra tab trình duyệt riêng:\n",
    "app.run(port=8050)\n",
    "\n",
    "# if __name__ == \"__main__\":\n",
    "#     app.run_server(debug=True)"
   ]
  },
  {
   "cell_type": "code",
   "execution_count": null,
   "id": "ead5e8a0",
   "metadata": {},
   "outputs": [],
   "source": []
  }
 ],
 "metadata": {
  "kernelspec": {
   "display_name": "py_39",
   "language": "python",
   "name": "python3"
  },
  "language_info": {
   "codemirror_mode": {
    "name": "ipython",
    "version": 3
   },
   "file_extension": ".py",
   "mimetype": "text/x-python",
   "name": "python",
   "nbconvert_exporter": "python",
   "pygments_lexer": "ipython3",
   "version": "3.9.23"
  }
 },
 "nbformat": 4,
 "nbformat_minor": 5
}
