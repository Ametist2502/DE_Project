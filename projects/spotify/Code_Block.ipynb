{
 "cells": [
  {
   "cell_type": "markdown",
   "id": "2f1fd353",
   "metadata": {},
   "source": [
    "#### Auth for Spotify"
   ]
  },
  {
   "cell_type": "code",
   "execution_count": null,
   "id": "c20ad45e",
   "metadata": {},
   "outputs": [],
   "source": [
    "import pandas as pd\n",
    "from auth import auth_with_credentials\n",
    "from dotenv import load_dotenv\n",
    "import os\n",
    "\n",
    "load_dotenv()\n",
    "SPOTIFY_ID=os.getenv('SPOTIFY_ID')\n",
    "SPOTIFY_SECRET=os.getenv('SPOTIFY_SECRET')\n",
    "redirect_uri = 'https://spotify.homeclean.site/callback'"
   ]
  },
  {
   "cell_type": "code",
   "execution_count": null,
   "id": "28167ae9",
   "metadata": {},
   "outputs": [],
   "source": [
    "sp = auth_with_credentials(client_id=SPOTIFY_ID, client_secret=SPOTIFY_SECRET)"
   ]
  },
  {
   "cell_type": "code",
   "execution_count": null,
   "id": "0d09d369",
   "metadata": {},
   "outputs": [],
   "source": [
    "from spotipy.oauth2 import SpotifyOAuth\n",
    "import spotipy\n",
    "sp = spotipy.Spotify(\n",
    "    auth_manager=SpotifyOAuth(\n",
    "        client_id=SPOTIFY_ID,\n",
    "        client_secret=SPOTIFY_SECRET,\n",
    "        redirect_uri=\"https://spotify.homeclean.site/callback\",\n",
    "        scope = (\n",
    "            \"user-read-email \"\n",
    "            \"user-library-read \"\n",
    "            \"user-read-playback-state \"\n",
    "            \"user-read-currently-playing \"\n",
    "            \"user-modify-playback-state \"\n",
    "            \"app-remote-control \"\n",
    "            \"playlist-read-collaborative \"\n",
    "            \"playlist-read-private\"\n",
    "        ),\n",
    "        cache_handler=None\n",
    "    )\n",
    ")\n"
   ]
  },
  {
   "cell_type": "code",
   "execution_count": null,
   "id": "865604c1",
   "metadata": {},
   "outputs": [],
   "source": [
    "import spotipy\n",
    "access_token='BQAXn3dt3V5VbfhV94uWv8H9IYajUQ4aFf2wSeNqpZbOR18fYs7rMdggy6x5HT1ZLKkVE9Spi-sB9h1ktcJum6hpa-JjfCJ8uJo_UCdBmDfGRoK98kCibgoFufhjQ7uzsbdMVi5znnNB860FRh51DzVXOPaps-nXSbjMs-Q3JEoFhVgwFYX94f6gLYCMaoFeuGZjWhnNNH-1vGFwC0g9dI0vsp8Y2oavOLM1EnZObbGBSJKyBbbogBW41hWYUMZmRZg8'\n",
    "sp = spotipy.Spotify(auth=access_token)\n",
    "print(sp.me())\n"
   ]
  },
  {
   "cell_type": "code",
   "execution_count": null,
   "id": "5152bb03",
   "metadata": {},
   "outputs": [],
   "source": [
    "print(sp.current_playback())"
   ]
  },
  {
   "cell_type": "code",
   "execution_count": null,
   "id": "8bf39d71",
   "metadata": {},
   "outputs": [],
   "source": [
    "current_user_all_playlist = sp.current_user_playlists()"
   ]
  },
  {
   "cell_type": "code",
   "execution_count": null,
   "id": "cb412c8b",
   "metadata": {},
   "outputs": [],
   "source": [
    "import json\n",
    "current_user_all_playlist['items'][0]"
   ]
  },
  {
   "cell_type": "code",
   "execution_count": null,
   "id": "f9b5b96b",
   "metadata": {},
   "outputs": [],
   "source": [
    "play_list_name = current_user_all_playlist['items'][0]['name']\n",
    "playlist_id = current_user_all_playlist['items'][0]['id']\n",
    "owner_name = current_user_all_playlist['items'][0]['owner']['display_name']\n",
    "owner_uri = current_user_all_playlist['items'][0]['owner']['uri']\n",
    "is_public_playlist = current_user_all_playlist['items'][0]['public']\n",
    "total = current_user_all_playlist['items'][0]['tracks']['total']\n",
    "playlist_uri = current_user_all_playlist['items'][0]['uri']"
   ]
  },
  {
   "cell_type": "code",
   "execution_count": null,
   "id": "7a8d3bc8",
   "metadata": {},
   "outputs": [],
   "source": [
    "list_1 = []\n",
    "list_1.append({\n",
    "    'play_list_name':play_list_name,\n",
    "    'playlist_id':play_list_name,\n",
    "    'owner_name':owner_name,\n",
    "    'owner_uri':owner_uri,\n",
    "    'is_public_playlist':is_public_playlist,\n",
    "    'total':total,\n",
    "    'playlist_uri':playlist_uri\n",
    "})\n",
    "\n",
    "list_1"
   ]
  },
  {
   "cell_type": "code",
   "execution_count": null,
   "id": "c304e604",
   "metadata": {},
   "outputs": [],
   "source": [
    "list_1"
   ]
  },
  {
   "cell_type": "code",
   "execution_count": null,
   "id": "98c003a0",
   "metadata": {},
   "outputs": [],
   "source": [
    "playlist_name = []\n",
    "playlist_id = []\n",
    "owner_name = []\n",
    "owner_uri = []\n",
    "is_public_playlist = []\n",
    "total = []\n",
    "playlist_uri = []\n",
    "\n",
    "for i in range(0, 6):\n",
    "    playlist_name.append(str(current_user_all_playlist['items'][i].get('name')))\n",
    "    playlist_id.append(str(current_user_all_playlist['items'][i].get('id')))\n",
    "    owner_name.append(str(current_user_all_playlist['items'][i]['owner'].get('display_name')))\n",
    "    owner_uri.append(str(current_user_all_playlist['items'][i]['owner'].get('uri')))\n",
    "    is_public_playlist.append(current_user_all_playlist['items'][i].get('public'))\n",
    "    total.append(current_user_all_playlist['items'][i]['tracks'].get('total'))\n",
    "    playlist_uri.append(str(current_user_all_playlist['items'][i].get('uri')))\n",
    "\n",
    "df = pd.DataFrame({\n",
    "    'playlist_name': playlist_name,\n",
    "    'playlist_id': playlist_id,\n",
    "    'owner_name': owner_name,\n",
    "    'owner_uri': owner_uri,\n",
    "    'is_public_playlist': is_public_playlist,\n",
    "    'total': total,\n",
    "    'playlist_uri': playlist_uri\n",
    "})\n"
   ]
  },
  {
   "cell_type": "code",
   "execution_count": null,
   "id": "b8c0d0f1",
   "metadata": {},
   "outputs": [],
   "source": [
    "df = pd.json_normalize(current_user_all_playlist['items'])"
   ]
  },
  {
   "cell_type": "code",
   "execution_count": null,
   "id": "5b8a24dc",
   "metadata": {},
   "outputs": [],
   "source": [
    "df.to_csv('raw_data/playlist.csv', index=False)"
   ]
  },
  {
   "cell_type": "code",
   "execution_count": null,
   "id": "e56f65ec",
   "metadata": {},
   "outputs": [],
   "source": [
    "import json\n",
    "\n",
    "items = json.loads(json.dumps(current_user_all_playlist[\"items\"]))\n",
    "\n",
    "items"
   ]
  },
  {
   "cell_type": "code",
   "execution_count": null,
   "id": "4caa8f91",
   "metadata": {},
   "outputs": [],
   "source": [
    "playlist_name = []\n",
    "playlist_id = []\n",
    "owner_name = []\n",
    "owner_uri = []\n",
    "is_public_playlist = []\n",
    "total = []\n",
    "playlist_uri = []\n",
    "\n",
    "for pl in items:\n",
    "    playlist_name.append(pl[\"name\"] )\n",
    "    playlist_id.append(pl[\"id\"] )\n",
    "    owner_name.append(pl[\"owner\"][\"display_name\"] )\n",
    "    owner_uri.append(pl[\"owner\"][\"uri\"].split(':')[-1] )\n",
    "    is_public_playlist.append(pl[\"public\"] )\n",
    "    total.append(pl[\"tracks\"][\"total\"] )\n",
    "    playlist_uri.append(pl['uri'].split(':')[-1])"
   ]
  },
  {
   "cell_type": "code",
   "execution_count": null,
   "id": "d1d68336",
   "metadata": {},
   "outputs": [],
   "source": [
    "playlist_id = df['playlist_uri'][0].split(':')[-1]"
   ]
  },
  {
   "cell_type": "code",
   "execution_count": null,
   "id": "56c7f9bd",
   "metadata": {},
   "outputs": [],
   "source": [
    "playlist_id"
   ]
  },
  {
   "cell_type": "code",
   "execution_count": null,
   "id": "dca68b23",
   "metadata": {},
   "outputs": [],
   "source": [
    "data = sp.playlist(playlist_id)"
   ]
  },
  {
   "cell_type": "code",
   "execution_count": null,
   "id": "017d4711",
   "metadata": {},
   "outputs": [],
   "source": [
    "len(data['tracks']['items'])"
   ]
  },
  {
   "cell_type": "code",
   "execution_count": null,
   "id": "6a3046da",
   "metadata": {},
   "outputs": [],
   "source": [
    "sp.audio_analysis(track_id='5J90ah0ppUSev1uahqQiN6')"
   ]
  },
  {
   "cell_type": "code",
   "execution_count": null,
   "id": "17bd9c73",
   "metadata": {},
   "outputs": [],
   "source": [
    "sp.search(q='Vũ.')"
   ]
  },
  {
   "cell_type": "markdown",
   "id": "bafd2026",
   "metadata": {},
   "source": [
    "#### Get raw data of some track"
   ]
  },
  {
   "cell_type": "markdown",
   "id": "f9ab6310",
   "metadata": {},
   "source": [
    "##### Get track infomation from Playlists on Spotify"
   ]
  },
  {
   "cell_type": "code",
   "execution_count": 30,
   "id": "ca3e1227",
   "metadata": {},
   "outputs": [],
   "source": [
    "import spotipy\n",
    "from spotipy.oauth2 import SpotifyClientCredentials, SpotifyOAuth\n",
    "from dotenv import load_dotenv\n",
    "import os\n",
    "\n",
    "load_dotenv()\n",
    "SPOTIFY_ID=os.getenv('SPOTIFY_ID')\n",
    "SPOTIFY_SECRET=os.getenv('SPOTIFY_SECRET')"
   ]
  },
  {
   "cell_type": "code",
   "execution_count": 3,
   "id": "2909755a",
   "metadata": {},
   "outputs": [],
   "source": [
    "import requests\n",
    "base_url=\"https://acousticbrainz.org\""
   ]
  },
  {
   "cell_type": "code",
   "execution_count": 31,
   "id": "9cad4da7",
   "metadata": {},
   "outputs": [
    {
     "name": "stdout",
     "output_type": "stream",
     "text": [
      "Track: Waiting For Love | Artist: Avicii\n"
     ]
    }
   ],
   "source": [
    "sp = spotipy.Spotify(auth_manager=SpotifyClientCredentials(\n",
    "    client_id=SPOTIFY_ID,\n",
    "    client_secret=SPOTIFY_SECRET\n",
    "))\n",
    "\n",
    "track_id = \"2P4OICZRVAQcYAV2JReRfj\"  # ví dụ\n",
    "track_info = sp.track(track_id)\n",
    "\n",
    "track_name = track_info[\"name\"]\n",
    "artist_name = track_info[\"artists\"][0][\"name\"]\n",
    "print(\"Track:\", track_name, \"| Artist:\", artist_name)"
   ]
  },
  {
   "cell_type": "code",
   "execution_count": 7,
   "id": "93aef7dd",
   "metadata": {},
   "outputs": [
    {
     "name": "stdout",
     "output_type": "stream",
     "text": [
      "MusicBrainz ID: f8675903-5235-4e5c-a9be-89dd87341f3e\n"
     ]
    }
   ],
   "source": [
    "mb_search_url = \"https://musicbrainz.org/ws/2/recording/\"\n",
    "params = {\n",
    "    \"query\": f'track:\"{track_name}\" AND artist:\"{artist_name}\"',\n",
    "    \"fmt\": \"json\"\n",
    "}\n",
    "resp = requests.get(mb_search_url, params=params, headers={\"User-Agent\": \"Spotify2AcousticBrainz/1.0\"})\n",
    "mb_data = resp.json()\n",
    "\n",
    "if \"recordings\" in mb_data and len(mb_data[\"recordings\"]) > 0:\n",
    "    mbid = mb_data[\"recordings\"][0][\"id\"]\n",
    "    print(\"MusicBrainz ID:\", mbid)\n",
    "else:\n",
    "    print(\"❌ Không tìm thấy MBID\")\n",
    "    exit()"
   ]
  },
  {
   "cell_type": "code",
   "execution_count": 11,
   "id": "d68a850e",
   "metadata": {},
   "outputs": [],
   "source": [
    "raw_data = sp.playlist_items(playlist_id='5oYN7C2h3aRI9OGNpXsd0F')"
   ]
  },
  {
   "cell_type": "code",
   "execution_count": 12,
   "id": "6c34623d",
   "metadata": {},
   "outputs": [],
   "source": [
    "items = raw_data['items']"
   ]
  },
  {
   "cell_type": "code",
   "execution_count": null,
   "id": "d6cad05d",
   "metadata": {},
   "outputs": [
    {
     "data": {
      "text/plain": [
       "'Avicii'"
      ]
     },
     "execution_count": 14,
     "metadata": {},
     "output_type": "execute_result"
    }
   ],
   "source": [
    "track_id = items[0]['track']['id']\n",
    "track_name = items[0]['track']['name']\n",
    "artist_name = items[0]['track']['artists'][0]['name']\n",
    "popularity = items[0]['track']['popularity']\n",
    "duration_ms = items[0]['track']['duration_ms']"
   ]
  },
  {
   "cell_type": "code",
   "execution_count": 16,
   "id": "0b6fc7a3",
   "metadata": {},
   "outputs": [],
   "source": [
    "tracks_id = []\n",
    "tracks_name = []\n",
    "artist_name = []\n",
    "popularity = []\n",
    "duration_ms = []\n",
    "\n",
    "for i, track in enumerate(items):\n",
    "    tracks_id.append(track['track']['id'])\n",
    "    tracks_name.append(track['track']['name'])\n",
    "    artist_name.append(track['track']['artists'][0]['name'])\n",
    "    popularity.append(track['track']['popularity'])\n",
    "    duration_ms.append(track['track']['duration_ms'])\n"
   ]
  },
  {
   "cell_type": "code",
   "execution_count": 29,
   "id": "26021f00",
   "metadata": {},
   "outputs": [],
   "source": [
    "import pandas as pd\n",
    "from datetime import datetime, timedelta\n",
    "\n",
    "\n",
    "df_tracks = pd.DataFrame({\n",
    "    \"track_id\": tracks_id,\n",
    "    \"track_name\": tracks_name,\n",
    "    \"artist_name\": artist_name,\n",
    "    \"popularity\": popularity,\n",
    "    \"duration_ms\": duration_ms\n",
    "})\n",
    "\n",
    "df_tracks.to_csv(\n",
    "    f\"raw_data/tracks_name_{datetime.today().strftime('%Y%m%d')}.csv\",\n",
    "    index=False\n",
    ")"
   ]
  },
  {
   "cell_type": "code",
   "execution_count": 20,
   "id": "7b2caf53",
   "metadata": {},
   "outputs": [
    {
     "name": "stdout",
     "output_type": "stream",
     "text": [
      "ok\n"
     ]
    }
   ],
   "source": [
    "import requests\n",
    "from bs4 import BeautifulSoup\n",
    "data = requests.get('https://www.pvoil.com.vn/tin-gia-xang-dau')\n",
    "\n",
    "if data.status_code == 200:\n",
    "    print('ok')"
   ]
  },
  {
   "cell_type": "code",
   "execution_count": null,
   "id": "d9d90cc2",
   "metadata": {},
   "outputs": [],
   "source": [
    "data.content\n",
    "soup = BeautifulSoup(data.content, 'lxml')"
   ]
  },
  {
   "cell_type": "code",
   "execution_count": 23,
   "id": "49c18cf1",
   "metadata": {},
   "outputs": [],
   "source": [
    "import pandas as pd\n",
    "from datetime import datetime\n",
    "from io import StringIO\n",
    "\n",
    "table = soup.find('table')\n",
    "\n",
    "# Bọc HTML string bằng StringIO\n",
    "df = pd.read_html(StringIO(str(table)))[0]\n",
    "\n",
    "# Giữ 2 cột cần thiết\n",
    "df = df.iloc[:, [1, 3]]\n",
    "df.columns = [\"Categories\", \"Price(VND/l)\"]\n",
    "df['updated_date'] = datetime.today()\n",
    "df[\"Price(VND/l)\"] = (\n",
    "    df[\"Price(VND/l)\"]\n",
    "    .astype(str)\n",
    "    .str.replace(\"đ\", \"\", regex=False)\n",
    "    .str.replace(\".\", \"\", regex=False)\n",
    "    .str.strip()\n",
    "    .astype(int)\n",
    ")\n",
    "df.to_csv('raw_data/fuel_price.csv', index=False, mode='a')"
   ]
  },
  {
   "cell_type": "markdown",
   "id": "2ebaf5d2",
   "metadata": {},
   "source": [
    "##### Get audio feature"
   ]
  },
  {
   "cell_type": "code",
   "execution_count": 33,
   "id": "aeae71a8",
   "metadata": {},
   "outputs": [],
   "source": [
    "df_1 = pd.read_csv('raw_data/tracks_name_20250904.csv')"
   ]
  },
  {
   "cell_type": "code",
   "execution_count": null,
   "id": "5d409d8f",
   "metadata": {},
   "outputs": [],
   "source": [
    "import requests\n",
    "base_url='https://musicbrainz.org/ws/2/recording'"
   ]
  }
 ],
 "metadata": {
  "kernelspec": {
   "display_name": "py_39",
   "language": "python",
   "name": "python3"
  },
  "language_info": {
   "codemirror_mode": {
    "name": "ipython",
    "version": 3
   },
   "file_extension": ".py",
   "mimetype": "text/x-python",
   "name": "python",
   "nbconvert_exporter": "python",
   "pygments_lexer": "ipython3",
   "version": "3.9.23"
  }
 },
 "nbformat": 4,
 "nbformat_minor": 5
}
