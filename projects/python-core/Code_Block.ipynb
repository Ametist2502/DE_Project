{
 "cells": [
  {
   "cell_type": "markdown",
   "id": "2f1fd353",
   "metadata": {},
   "source": [
    "#### Auth for Spotify"
   ]
  },
  {
   "cell_type": "code",
   "execution_count": null,
   "id": "c20ad45e",
   "metadata": {},
   "outputs": [],
   "source": [
    "import pandas as pd\n",
    "from auth import auth_with_credentials\n",
    "from dotenv import load_dotenv\n",
    "import os\n",
    "\n",
    "load_dotenv()\n",
    "SPOTIFY_ID=os.getenv('SPOTIFY_ID')\n",
    "SPOTIFY_SECRET=os.getenv('SPOTIFY_SECRET')\n",
    "redirect_uri = 'https://spotify.homeclean.site/callback'"
   ]
  },
  {
   "cell_type": "code",
   "execution_count": null,
   "id": "28167ae9",
   "metadata": {},
   "outputs": [],
   "source": [
    "sp = auth_with_credentials(client_id=SPOTIFY_ID, client_secret=SPOTIFY_SECRET)"
   ]
  },
  {
   "cell_type": "code",
   "execution_count": null,
   "id": "0d09d369",
   "metadata": {},
   "outputs": [],
   "source": [
    "from spotipy.oauth2 import SpotifyOAuth\n",
    "import spotipy\n",
    "sp = spotipy.Spotify(\n",
    "    auth_manager=SpotifyOAuth(\n",
    "        client_id=SPOTIFY_ID,\n",
    "        client_secret=SPOTIFY_SECRET,\n",
    "        redirect_uri=\"https://spotify.homeclean.site/callback\",\n",
    "        scope = (\n",
    "            \"user-read-email \"\n",
    "            \"user-library-read \"\n",
    "            \"user-read-playback-state \"\n",
    "            \"user-read-currently-playing \"\n",
    "            \"user-modify-playback-state \"\n",
    "            \"app-remote-control \"\n",
    "            \"playlist-read-collaborative \"\n",
    "            \"playlist-read-private\"\n",
    "        ),\n",
    "        cache_handler=None\n",
    "    )\n",
    ")\n"
   ]
  },
  {
   "cell_type": "code",
   "execution_count": null,
   "id": "865604c1",
   "metadata": {},
   "outputs": [],
   "source": [
    "import spotipy\n",
    "access_token='BQAXn3dt3V5VbfhV94uWv8H9IYajUQ4aFf2wSeNqpZbOR18fYs7rMdggy6x5HT1ZLKkVE9Spi-sB9h1ktcJum6hpa-JjfCJ8uJo_UCdBmDfGRoK98kCibgoFufhjQ7uzsbdMVi5znnNB860FRh51DzVXOPaps-nXSbjMs-Q3JEoFhVgwFYX94f6gLYCMaoFeuGZjWhnNNH-1vGFwC0g9dI0vsp8Y2oavOLM1EnZObbGBSJKyBbbogBW41hWYUMZmRZg8'\n",
    "sp = spotipy.Spotify(auth=access_token)\n",
    "print(sp.me())\n"
   ]
  },
  {
   "cell_type": "code",
   "execution_count": null,
   "id": "5152bb03",
   "metadata": {},
   "outputs": [],
   "source": [
    "print(sp.current_playback())"
   ]
  },
  {
   "cell_type": "code",
   "execution_count": null,
   "id": "8bf39d71",
   "metadata": {},
   "outputs": [],
   "source": [
    "current_user_all_playlist = sp.current_user_playlists()"
   ]
  },
  {
   "cell_type": "code",
   "execution_count": null,
   "id": "cb412c8b",
   "metadata": {},
   "outputs": [],
   "source": [
    "import json\n",
    "current_user_all_playlist['items'][0]"
   ]
  },
  {
   "cell_type": "code",
   "execution_count": null,
   "id": "f9b5b96b",
   "metadata": {},
   "outputs": [],
   "source": [
    "play_list_name = current_user_all_playlist['items'][0]['name']\n",
    "playlist_id = current_user_all_playlist['items'][0]['id']\n",
    "owner_name = current_user_all_playlist['items'][0]['owner']['display_name']\n",
    "owner_uri = current_user_all_playlist['items'][0]['owner']['uri']\n",
    "is_public_playlist = current_user_all_playlist['items'][0]['public']\n",
    "total = current_user_all_playlist['items'][0]['tracks']['total']\n",
    "playlist_uri = current_user_all_playlist['items'][0]['uri']"
   ]
  },
  {
   "cell_type": "code",
   "execution_count": null,
   "id": "7a8d3bc8",
   "metadata": {},
   "outputs": [],
   "source": [
    "list_1 = []\n",
    "list_1.append({\n",
    "    'play_list_name':play_list_name,\n",
    "    'playlist_id':play_list_name,\n",
    "    'owner_name':owner_name,\n",
    "    'owner_uri':owner_uri,\n",
    "    'is_public_playlist':is_public_playlist,\n",
    "    'total':total,\n",
    "    'playlist_uri':playlist_uri\n",
    "})\n",
    "\n",
    "list_1"
   ]
  },
  {
   "cell_type": "code",
   "execution_count": null,
   "id": "c304e604",
   "metadata": {},
   "outputs": [],
   "source": [
    "list_1"
   ]
  },
  {
   "cell_type": "code",
   "execution_count": null,
   "id": "98c003a0",
   "metadata": {},
   "outputs": [],
   "source": [
    "playlist_name = []\n",
    "playlist_id = []\n",
    "owner_name = []\n",
    "owner_uri = []\n",
    "is_public_playlist = []\n",
    "total = []\n",
    "playlist_uri = []\n",
    "\n",
    "for i in range(0, 6):\n",
    "    playlist_name.append(str(current_user_all_playlist['items'][i].get('name')))\n",
    "    playlist_id.append(str(current_user_all_playlist['items'][i].get('id')))\n",
    "    owner_name.append(str(current_user_all_playlist['items'][i]['owner'].get('display_name')))\n",
    "    owner_uri.append(str(current_user_all_playlist['items'][i]['owner'].get('uri')))\n",
    "    is_public_playlist.append(current_user_all_playlist['items'][i].get('public'))\n",
    "    total.append(current_user_all_playlist['items'][i]['tracks'].get('total'))\n",
    "    playlist_uri.append(str(current_user_all_playlist['items'][i].get('uri')))\n",
    "\n",
    "df = pd.DataFrame({\n",
    "    'playlist_name': playlist_name,\n",
    "    'playlist_id': playlist_id,\n",
    "    'owner_name': owner_name,\n",
    "    'owner_uri': owner_uri,\n",
    "    'is_public_playlist': is_public_playlist,\n",
    "    'total': total,\n",
    "    'playlist_uri': playlist_uri\n",
    "})\n"
   ]
  },
  {
   "cell_type": "code",
   "execution_count": null,
   "id": "b8c0d0f1",
   "metadata": {},
   "outputs": [],
   "source": [
    "df = pd.json_normalize(current_user_all_playlist['items'])"
   ]
  },
  {
   "cell_type": "code",
   "execution_count": null,
   "id": "5b8a24dc",
   "metadata": {},
   "outputs": [],
   "source": [
    "df.to_csv('raw_data/playlist.csv', index=False)"
   ]
  },
  {
   "cell_type": "code",
   "execution_count": null,
   "id": "e56f65ec",
   "metadata": {},
   "outputs": [],
   "source": [
    "import json\n",
    "\n",
    "items = json.loads(json.dumps(current_user_all_playlist[\"items\"]))\n",
    "\n",
    "items"
   ]
  },
  {
   "cell_type": "code",
   "execution_count": null,
   "id": "4caa8f91",
   "metadata": {},
   "outputs": [],
   "source": [
    "playlist_name = []\n",
    "playlist_id = []\n",
    "owner_name = []\n",
    "owner_uri = []\n",
    "is_public_playlist = []\n",
    "total = []\n",
    "playlist_uri = []\n",
    "\n",
    "for pl in items:\n",
    "    playlist_name.append(pl[\"name\"] )\n",
    "    playlist_id.append(pl[\"id\"] )\n",
    "    owner_name.append(pl[\"owner\"][\"display_name\"] )\n",
    "    owner_uri.append(pl[\"owner\"][\"uri\"].split(':')[-1] )\n",
    "    is_public_playlist.append(pl[\"public\"] )\n",
    "    total.append(pl[\"tracks\"][\"total\"] )\n",
    "    playlist_uri.append(pl['uri'].split(':')[-1])"
   ]
  },
  {
   "cell_type": "code",
   "execution_count": null,
   "id": "d1d68336",
   "metadata": {},
   "outputs": [],
   "source": [
    "playlist_id = df['playlist_uri'][0].split(':')[-1]"
   ]
  },
  {
   "cell_type": "code",
   "execution_count": null,
   "id": "56c7f9bd",
   "metadata": {},
   "outputs": [],
   "source": [
    "playlist_id"
   ]
  },
  {
   "cell_type": "code",
   "execution_count": null,
   "id": "dca68b23",
   "metadata": {},
   "outputs": [],
   "source": [
    "data = sp.playlist(playlist_id)"
   ]
  },
  {
   "cell_type": "code",
   "execution_count": null,
   "id": "017d4711",
   "metadata": {},
   "outputs": [],
   "source": [
    "len(data['tracks']['items'])"
   ]
  },
  {
   "cell_type": "code",
   "execution_count": null,
   "id": "6a3046da",
   "metadata": {},
   "outputs": [],
   "source": [
    "sp.audio_analysis(track_id='5J90ah0ppUSev1uahqQiN6')"
   ]
  },
  {
   "cell_type": "code",
   "execution_count": null,
   "id": "17bd9c73",
   "metadata": {},
   "outputs": [],
   "source": [
    "sp.search(q='Vũ.')"
   ]
  },
  {
   "cell_type": "markdown",
   "id": "bafd2026",
   "metadata": {},
   "source": [
    "#### Get raw data of some track"
   ]
  },
  {
   "cell_type": "markdown",
   "id": "f9ab6310",
   "metadata": {},
   "source": [
    "##### Get track infomation from Playlists on Spotify"
   ]
  },
  {
   "cell_type": "code",
   "execution_count": 30,
   "id": "ca3e1227",
   "metadata": {},
   "outputs": [],
   "source": [
    "import spotipy\n",
    "from spotipy.oauth2 import SpotifyClientCredentials, SpotifyOAuth\n",
    "from dotenv import load_dotenv\n",
    "import os\n",
    "\n",
    "load_dotenv()\n",
    "SPOTIFY_ID=os.getenv('SPOTIFY_ID')\n",
    "SPOTIFY_SECRET=os.getenv('SPOTIFY_SECRET')"
   ]
  },
  {
   "cell_type": "code",
   "execution_count": 3,
   "id": "2909755a",
   "metadata": {},
   "outputs": [],
   "source": [
    "import requests\n",
    "base_url=\"https://acousticbrainz.org\""
   ]
  },
  {
   "cell_type": "code",
   "execution_count": 31,
   "id": "9cad4da7",
   "metadata": {},
   "outputs": [
    {
     "name": "stdout",
     "output_type": "stream",
     "text": [
      "Track: Waiting For Love | Artist: Avicii\n"
     ]
    }
   ],
   "source": [
    "sp = spotipy.Spotify(auth_manager=SpotifyClientCredentials(\n",
    "    client_id=SPOTIFY_ID,\n",
    "    client_secret=SPOTIFY_SECRET\n",
    "))\n",
    "\n",
    "track_id = \"2P4OICZRVAQcYAV2JReRfj\"  # ví dụ\n",
    "track_info = sp.track(track_id)\n",
    "\n",
    "track_name = track_info[\"name\"]\n",
    "artist_name = track_info[\"artists\"][0][\"name\"]\n",
    "print(\"Track:\", track_name, \"| Artist:\", artist_name)"
   ]
  },
  {
   "cell_type": "code",
   "execution_count": 7,
   "id": "93aef7dd",
   "metadata": {},
   "outputs": [
    {
     "name": "stdout",
     "output_type": "stream",
     "text": [
      "MusicBrainz ID: f8675903-5235-4e5c-a9be-89dd87341f3e\n"
     ]
    }
   ],
   "source": [
    "mb_search_url = \"https://musicbrainz.org/ws/2/recording/\"\n",
    "params = {\n",
    "    \"query\": f'track:\"{track_name}\" AND artist:\"{artist_name}\"',\n",
    "    \"fmt\": \"json\"\n",
    "}\n",
    "resp = requests.get(mb_search_url, params=params, headers={\"User-Agent\": \"Spotify2AcousticBrainz/1.0\"})\n",
    "mb_data = resp.json()\n",
    "\n",
    "if \"recordings\" in mb_data and len(mb_data[\"recordings\"]) > 0:\n",
    "    mbid = mb_data[\"recordings\"][0][\"id\"]\n",
    "    print(\"MusicBrainz ID:\", mbid)\n",
    "else:\n",
    "    print(\"❌ Không tìm thấy MBID\")\n",
    "    exit()"
   ]
  },
  {
   "cell_type": "code",
   "execution_count": 11,
   "id": "d68a850e",
   "metadata": {},
   "outputs": [],
   "source": [
    "raw_data = sp.playlist_items(playlist_id='5oYN7C2h3aRI9OGNpXsd0F')"
   ]
  },
  {
   "cell_type": "code",
   "execution_count": 12,
   "id": "6c34623d",
   "metadata": {},
   "outputs": [],
   "source": [
    "items = raw_data['items']"
   ]
  },
  {
   "cell_type": "code",
   "execution_count": null,
   "id": "d6cad05d",
   "metadata": {},
   "outputs": [
    {
     "data": {
      "text/plain": [
       "'Avicii'"
      ]
     },
     "execution_count": 14,
     "metadata": {},
     "output_type": "execute_result"
    }
   ],
   "source": [
    "track_id = items[0]['track']['id']\n",
    "track_name = items[0]['track']['name']\n",
    "artist_name = items[0]['track']['artists'][0]['name']\n",
    "popularity = items[0]['track']['popularity']\n",
    "duration_ms = items[0]['track']['duration_ms']"
   ]
  },
  {
   "cell_type": "code",
   "execution_count": 16,
   "id": "0b6fc7a3",
   "metadata": {},
   "outputs": [],
   "source": [
    "tracks_id = []\n",
    "tracks_name = []\n",
    "artist_name = []\n",
    "popularity = []\n",
    "duration_ms = []\n",
    "\n",
    "for i, track in enumerate(items):\n",
    "    tracks_id.append(track['track']['id'])\n",
    "    tracks_name.append(track['track']['name'])\n",
    "    artist_name.append(track['track']['artists'][0]['name'])\n",
    "    popularity.append(track['track']['popularity'])\n",
    "    duration_ms.append(track['track']['duration_ms'])\n"
   ]
  },
  {
   "cell_type": "code",
   "execution_count": null,
   "id": "26021f00",
   "metadata": {},
   "outputs": [],
   "source": [
    "import pandas as pd\n",
    "from datetime import datetime, timedelta\n",
    "\n",
    "\n",
    "df_tracks = pd.DataFrame({\n",
    "    \"track_id\": tracks_id,\n",
    "    \"track_name\": tracks_name,\n",
    "    \"artist_name\": artist_name,\n",
    "    \"popularity\": popularity,\n",
    "    \"duration_ms\": duration_ms\n",
    "})\n",
    "\n",
    "df_tracks.to_csv(\n",
    "    f\"raw_data/tracks_name_{datetime.today().strftime('%Y%m%d')}.csv\",\n",
    "    index=False\n",
    ")"
   ]
  },
  {
   "cell_type": "code",
   "execution_count": 20,
   "id": "7b2caf53",
   "metadata": {},
   "outputs": [
    {
     "name": "stdout",
     "output_type": "stream",
     "text": [
      "ok\n"
     ]
    }
   ],
   "source": [
    "import requests\n",
    "from bs4 import BeautifulSoup\n",
    "data = requests.get('https://www.pvoil.com.vn/tin-gia-xang-dau')\n",
    "\n",
    "if data.status_code == 200:\n",
    "    print('ok')"
   ]
  },
  {
   "cell_type": "code",
   "execution_count": null,
   "id": "d9d90cc2",
   "metadata": {},
   "outputs": [],
   "source": [
    "data.content\n",
    "soup = BeautifulSoup(data.content, 'lxml')"
   ]
  },
  {
   "cell_type": "code",
   "execution_count": 23,
   "id": "49c18cf1",
   "metadata": {},
   "outputs": [],
   "source": [
    "import pandas as pd\n",
    "from datetime import datetime\n",
    "from io import StringIO\n",
    "\n",
    "table = soup.find('table')\n",
    "\n",
    "# Bọc HTML string bằng StringIO\n",
    "df = pd.read_html(StringIO(str(table)))[0]\n",
    "\n",
    "# Giữ 2 cột cần thiết\n",
    "df = df.iloc[:, [1, 3]]\n",
    "df.columns = [\"Categories\", \"Price(VND/l)\"]\n",
    "df['updated_date'] = datetime.today()\n",
    "df[\"Price(VND/l)\"] = (\n",
    "    df[\"Price(VND/l)\"]\n",
    "    .astype(str)\n",
    "    .str.replace(\"đ\", \"\", regex=False)\n",
    "    .str.replace(\".\", \"\", regex=False)\n",
    "    .str.strip()\n",
    "    .astype(int)\n",
    ")\n",
    "df.to_csv('raw_data/fuel_price.csv', index=False, mode='a')"
   ]
  },
  {
   "cell_type": "markdown",
   "id": "2ebaf5d2",
   "metadata": {},
   "source": [
    "##### Get audio feature"
   ]
  },
  {
   "cell_type": "code",
   "execution_count": 33,
   "id": "aeae71a8",
   "metadata": {},
   "outputs": [],
   "source": [
    "df_1 = pd.read_csv('raw_data/tracks_name_20250904.csv')"
   ]
  },
  {
   "cell_type": "code",
   "execution_count": null,
   "id": "5d409d8f",
   "metadata": {},
   "outputs": [],
   "source": [
    "import requests\n",
    "base_url='https://musicbrainz.org/ws/2/recording'"
   ]
  },
  {
   "cell_type": "code",
   "execution_count": 32,
   "id": "daf185e3",
   "metadata": {},
   "outputs": [
    {
     "data": {
      "text/plain": [
       "{'display_name': 'd!yeah',\n",
       " 'external_urls': {'spotify': 'https://open.spotify.com/user/diatimbaaang'},\n",
       " 'followers': {'href': None, 'total': 39},\n",
       " 'href': 'https://api.spotify.com/v1/users/diatimbaaang',\n",
       " 'id': 'diatimbaaang',\n",
       " 'images': [{'url': 'https://i.scdn.co/image/ab6775700000ee85a96f86f69693e73dd5c2fcfc',\n",
       "   'height': 300,\n",
       "   'width': 300},\n",
       "  {'url': 'https://i.scdn.co/image/ab67757000003b82a96f86f69693e73dd5c2fcfc',\n",
       "   'height': 64,\n",
       "   'width': 64}],\n",
       " 'type': 'user',\n",
       " 'uri': 'spotify:user:diatimbaaang'}"
      ]
     },
     "execution_count": 32,
     "metadata": {},
     "output_type": "execute_result"
    }
   ],
   "source": [
    "sp.user(\"diatimbaaang\")"
   ]
  },
  {
   "cell_type": "code",
   "execution_count": 35,
   "id": "f18e0158",
   "metadata": {},
   "outputs": [
    {
     "data": {
      "text/plain": [
       "{'href': 'https://api.spotify.com/v1/users/diatimbaaang/playlists?offset=0&limit=50',\n",
       " 'limit': 50,\n",
       " 'next': None,\n",
       " 'offset': 0,\n",
       " 'previous': None,\n",
       " 'total': 6,\n",
       " 'items': [{'collaborative': False,\n",
       "   'description': '',\n",
       "   'external_urls': {'spotify': 'https://open.spotify.com/playlist/4xEz5fJoVPomSE7wz3oC1i'},\n",
       "   'href': 'https://api.spotify.com/v1/playlists/4xEz5fJoVPomSE7wz3oC1i',\n",
       "   'id': '4xEz5fJoVPomSE7wz3oC1i',\n",
       "   'images': [{'height': None,\n",
       "     'url': 'https://image-cdn-ak.spotifycdn.com/image/ab67706c0000da8451276bdbb3cb92d83ec67adf',\n",
       "     'width': None}],\n",
       "   'name': 'shrek',\n",
       "   'owner': {'display_name': 'd!yeah',\n",
       "    'external_urls': {'spotify': 'https://open.spotify.com/user/diatimbaaang'},\n",
       "    'href': 'https://api.spotify.com/v1/users/diatimbaaang',\n",
       "    'id': 'diatimbaaang',\n",
       "    'type': 'user',\n",
       "    'uri': 'spotify:user:diatimbaaang'},\n",
       "   'primary_color': None,\n",
       "   'public': True,\n",
       "   'snapshot_id': 'AAAAFTC1bhS6dZ4ED0Zeval3EEgDmg4P',\n",
       "   'tracks': {'href': 'https://api.spotify.com/v1/playlists/4xEz5fJoVPomSE7wz3oC1i/tracks',\n",
       "    'total': 114},\n",
       "   'type': 'playlist',\n",
       "   'uri': 'spotify:playlist:4xEz5fJoVPomSE7wz3oC1i'},\n",
       "  {'collaborative': False,\n",
       "   'description': 'no not really',\n",
       "   'external_urls': {'spotify': 'https://open.spotify.com/playlist/1T4MuWVAkQOJB5JpX7OY3z'},\n",
       "   'href': 'https://api.spotify.com/v1/playlists/1T4MuWVAkQOJB5JpX7OY3z',\n",
       "   'id': '1T4MuWVAkQOJB5JpX7OY3z',\n",
       "   'images': [{'height': None,\n",
       "     'url': 'https://image-cdn-ak.spotifycdn.com/image/ab67706c0000da847db76ad677e722c639c6056e',\n",
       "     'width': None}],\n",
       "   'name': 'recession \\U0001faa9 ',\n",
       "   'owner': {'display_name': 'd!yeah',\n",
       "    'external_urls': {'spotify': 'https://open.spotify.com/user/diatimbaaang'},\n",
       "    'href': 'https://api.spotify.com/v1/users/diatimbaaang',\n",
       "    'id': 'diatimbaaang',\n",
       "    'type': 'user',\n",
       "    'uri': 'spotify:user:diatimbaaang'},\n",
       "   'primary_color': None,\n",
       "   'public': True,\n",
       "   'snapshot_id': 'AAAAJ4aCcLYgMAsQQaYw264FcqrzzbhL',\n",
       "   'tracks': {'href': 'https://api.spotify.com/v1/playlists/1T4MuWVAkQOJB5JpX7OY3z/tracks',\n",
       "    'total': 157},\n",
       "   'type': 'playlist',\n",
       "   'uri': 'spotify:playlist:1T4MuWVAkQOJB5JpX7OY3z'},\n",
       "  {'collaborative': False,\n",
       "   'description': '&quot;dream on&quot;',\n",
       "   'external_urls': {'spotify': 'https://open.spotify.com/playlist/3BNxbleQ5x2vyXhq9HuoiL'},\n",
       "   'href': 'https://api.spotify.com/v1/playlists/3BNxbleQ5x2vyXhq9HuoiL',\n",
       "   'id': '3BNxbleQ5x2vyXhq9HuoiL',\n",
       "   'images': [{'height': None,\n",
       "     'url': 'https://image-cdn-ak.spotifycdn.com/image/ab67706c0000da848bf5538d44059c7ac6e611bc',\n",
       "     'width': None}],\n",
       "   'name': 'elesina',\n",
       "   'owner': {'display_name': 'd!yeah',\n",
       "    'external_urls': {'spotify': 'https://open.spotify.com/user/diatimbaaang'},\n",
       "    'href': 'https://api.spotify.com/v1/users/diatimbaaang',\n",
       "    'id': 'diatimbaaang',\n",
       "    'type': 'user',\n",
       "    'uri': 'spotify:user:diatimbaaang'},\n",
       "   'primary_color': None,\n",
       "   'public': True,\n",
       "   'snapshot_id': 'AAAAOQyd9vKJsJTwVkJJbUvqohvq2nU2',\n",
       "   'tracks': {'href': 'https://api.spotify.com/v1/playlists/3BNxbleQ5x2vyXhq9HuoiL/tracks',\n",
       "    'total': 46},\n",
       "   'type': 'playlist',\n",
       "   'uri': 'spotify:playlist:3BNxbleQ5x2vyXhq9HuoiL'},\n",
       "  {'collaborative': False,\n",
       "   'description': '',\n",
       "   'external_urls': {'spotify': 'https://open.spotify.com/playlist/3RK10mrSXQlwSpzLPLW96U'},\n",
       "   'href': 'https://api.spotify.com/v1/playlists/3RK10mrSXQlwSpzLPLW96U',\n",
       "   'id': '3RK10mrSXQlwSpzLPLW96U',\n",
       "   'images': [{'height': None,\n",
       "     'url': 'https://image-cdn-ak.spotifycdn.com/image/ab67706c0000da84d561c50e3cd0c01940120cee',\n",
       "     'width': None}],\n",
       "   'name': ' for me & my dad',\n",
       "   'owner': {'display_name': 'd!yeah',\n",
       "    'external_urls': {'spotify': 'https://open.spotify.com/user/diatimbaaang'},\n",
       "    'href': 'https://api.spotify.com/v1/users/diatimbaaang',\n",
       "    'id': 'diatimbaaang',\n",
       "    'type': 'user',\n",
       "    'uri': 'spotify:user:diatimbaaang'},\n",
       "   'primary_color': None,\n",
       "   'public': True,\n",
       "   'snapshot_id': 'AAABIeUPXl/Pul/FLcyyn8SLvyxN6tTh',\n",
       "   'tracks': {'href': 'https://api.spotify.com/v1/playlists/3RK10mrSXQlwSpzLPLW96U/tracks',\n",
       "    'total': 466},\n",
       "   'type': 'playlist',\n",
       "   'uri': 'spotify:playlist:3RK10mrSXQlwSpzLPLW96U'},\n",
       "  {'collaborative': False,\n",
       "   'description': '',\n",
       "   'external_urls': {'spotify': 'https://open.spotify.com/playlist/1YLxaLE23PWydLI6q32XiK'},\n",
       "   'href': 'https://api.spotify.com/v1/playlists/1YLxaLE23PWydLI6q32XiK',\n",
       "   'id': '1YLxaLE23PWydLI6q32XiK',\n",
       "   'images': [{'height': None,\n",
       "     'url': 'https://image-cdn-ak.spotifycdn.com/image/ab67706c0000da84ef0e3e8b8eb5dd70487b9e4d',\n",
       "     'width': None}],\n",
       "   'name': '+63',\n",
       "   'owner': {'display_name': 'd!yeah',\n",
       "    'external_urls': {'spotify': 'https://open.spotify.com/user/diatimbaaang'},\n",
       "    'href': 'https://api.spotify.com/v1/users/diatimbaaang',\n",
       "    'id': 'diatimbaaang',\n",
       "    'type': 'user',\n",
       "    'uri': 'spotify:user:diatimbaaang'},\n",
       "   'primary_color': None,\n",
       "   'public': True,\n",
       "   'snapshot_id': 'AAAAiL0lEUppyOslSByKz1GVmvjUhFSk',\n",
       "   'tracks': {'href': 'https://api.spotify.com/v1/playlists/1YLxaLE23PWydLI6q32XiK/tracks',\n",
       "    'total': 296},\n",
       "   'type': 'playlist',\n",
       "   'uri': 'spotify:playlist:1YLxaLE23PWydLI6q32XiK'},\n",
       "  {'collaborative': False,\n",
       "   'description': '',\n",
       "   'external_urls': {'spotify': 'https://open.spotify.com/playlist/5ykG2fipEL7wp2HGwQdTSy'},\n",
       "   'href': 'https://api.spotify.com/v1/playlists/5ykG2fipEL7wp2HGwQdTSy',\n",
       "   'id': '5ykG2fipEL7wp2HGwQdTSy',\n",
       "   'images': [{'height': None,\n",
       "     'url': 'https://image-cdn-ak.spotifycdn.com/image/ab67706c0000da84b8a2220f95c7f749cf8de7e2',\n",
       "     'width': None}],\n",
       "   'name': 'childhood',\n",
       "   'owner': {'display_name': 'd!yeah',\n",
       "    'external_urls': {'spotify': 'https://open.spotify.com/user/diatimbaaang'},\n",
       "    'href': 'https://api.spotify.com/v1/users/diatimbaaang',\n",
       "    'id': 'diatimbaaang',\n",
       "    'type': 'user',\n",
       "    'uri': 'spotify:user:diatimbaaang'},\n",
       "   'primary_color': None,\n",
       "   'public': True,\n",
       "   'snapshot_id': 'AAAAQ+MMMTbSJ3Fz8/78MqGmFEt8OGdE',\n",
       "   'tracks': {'href': 'https://api.spotify.com/v1/playlists/5ykG2fipEL7wp2HGwQdTSy/tracks',\n",
       "    'total': 49},\n",
       "   'type': 'playlist',\n",
       "   'uri': 'spotify:playlist:5ykG2fipEL7wp2HGwQdTSy'}]}"
      ]
     },
     "execution_count": 35,
     "metadata": {},
     "output_type": "execute_result"
    }
   ],
   "source": [
    "sp.user_playlists('diatimbaaang')"
   ]
  },
  {
   "cell_type": "code",
   "execution_count": null,
   "id": "37cef149",
   "metadata": {},
   "outputs": [
    {
     "name": "stdout",
     "output_type": "stream",
     "text": [
      "{\"sports\":[{\"sport_id\":1,\"sport_name\":\"NCAA Football\"},{\"sport_id\":2,\"sport_name\":\"NFL\"},{\"sport_id\":3,\"sport_name\":\"MLB\"},{\"sport_id\":4,\"sport_name\":\"NBA\"},{\"sport_id\":5,\"sport_name\":\"NCAA Men's Basketball\"},{\"sport_id\":6,\"sport_name\":\"NHL\"},{\"sport_id\":7,\"sport_name\":\"UFC/MMA\"},{\"sport_id\":8,\"sport_name\":\"WNBA\"},{\"sport_id\":10,\"sport_name\":\"MLS\"},{\"sport_id\":11,\"sport_name\":\"EPL\"},{\"sport_id\":12,\"sport_name\":\"FRA1\"},{\"sport_id\":13,\"sport_name\":\"GER1\"},{\"sport_id\":14,\"sport_name\":\"ESP1\"},{\"sport_id\":15,\"sport_name\":\"ITA1\"},{\"sport_id\":16,\"sport_name\":\"UEFACHAMP\"},{\"sport_id\":17,\"sport_name\":\"UEFAEURO\"},{\"sport_id\":18,\"sport_name\":\"FIFA\"},{\"sport_id\":19,\"sport_name\":\"JPN1\"},{\"sport_id\":20,\"sport_name\":\"IPL\"},{\"sport_id\":21,\"sport_name\":\"T20\"},{\"sport_id\":22,\"sport_name\":\"Politics\"},{\"sport_id\":23,\"sport_name\":\"NBA Preseason\"},{\"sport_id\":24,\"sport_name\":\"NBA Playoffs\"},{\"sport_id\":25,\"sport_name\":\"NFL Preseason\"},{\"sport_id\":26,\"sport_name\":\"NFL Playoffs\"},{\"sport_id\":27,\"sport_name\":\"NHL Preseason\"},{\"sport_id\":28,\"sport_name\":\"NHL Playoffs\"},{\"sport_id\":29,\"sport_name\":\"MLB Preseason\"},{\"sport_id\":30,\"sport_name\":\"MLB Spring Training\"},{\"sport_id\":31,\"sport_name\":\"MLB Playoffs\"},{\"sport_id\":32,\"sport_name\":\"NBA Summer League\"}]}\n"
     ]
    }
   ],
   "source": [
    "import http.client\n",
    "\n",
    "conn = http.client.HTTPSConnection(\"therundown-therundown-v1.p.rapidapi.com\")\n",
    "\n",
    "headers = {\n",
    "\n",
    "}\n",
    "\n",
    "conn.request(\"GET\", \"/sports\", headers=headers)\n",
    "\n",
    "res = conn.getresponse()\n",
    "data = res.read()\n",
    "\n",
    "print(data.decode(\"utf-8\"))"
   ]
  },
  {
   "cell_type": "code",
   "execution_count": 41,
   "id": "1942da0d",
   "metadata": {},
   "outputs": [],
   "source": [
    "import json\n",
    "sports_raw = data.decode(\"utf-8\")\n",
    "sports_json = json.loads(sports_raw)  # Dạng dict với key 'sports'\n",
    "sports_list = sports_json[\"sports\"]   # Lấy list sports"
   ]
  },
  {
   "cell_type": "code",
   "execution_count": 43,
   "id": "0a91392a",
   "metadata": {},
   "outputs": [],
   "source": [
    "df = pd.DataFrame(sports_list)"
   ]
  },
  {
   "cell_type": "code",
   "execution_count": 45,
   "id": "beaef202",
   "metadata": {},
   "outputs": [],
   "source": [
    "df.to_csv(\"raw_data/TheRundown_sports.csv\", index=False)"
   ]
  },
  {
   "cell_type": "code",
   "execution_count": null,
   "id": "954ec641",
   "metadata": {},
   "outputs": [
    {
     "name": "stdout",
     "output_type": "stream",
     "text": [
      "{\"teams\":[{\"team_id\":2776,\"name\":\"Adelaide\",\"mascot\":\"Adelaide 36ers\",\"abbreviation\":\"ADE\",\"record\":\"5-5-7\"},{\"team_id\":11,\"name\":\"Atlanta\",\"mascot\":\"Hawks\",\"abbreviation\":\"ATL\",\"record\":\"40-42\",\"conference\":{\"conference_id\":39,\"sport_id\":4,\"name\":\"Eastern Conference\"},\"division\":{\"division_id\":17,\"conference_id\":39,\"sport_id\":4,\"name\":\"Southeast\"}},{\"team_id\":1,\"name\":\"Boston\",\"mascot\":\"Celtics\",\"abbreviation\":\"BOS\",\"record\":\"61-21\",\"conference\":{\"conference_id\":39,\"sport_id\":4,\"name\":\"Eastern Conference\"},\"division\":{\"division_id\":15,\"conference_id\":39,\"sport_id\":4,\"name\":\"Atlantic\"}},{\"team_id\":2,\"name\":\"Brooklyn\",\"mascot\":\"Nets\",\"abbreviation\":\"BKN\",\"record\":\"26-56\",\"conference\":{\"conference_id\":39,\"sport_id\":4,\"name\":\"Eastern Conference\"},\"division\":{\"division_id\":15,\"conference_id\":39,\"sport_id\":4,\"name\":\"Atlantic\"}},{\"team_id\":10443,\"name\":\"Cairns\",\"mascot\":\"Tiapans\",\"abbreviation\":\"CNS\"},{\"team_id\":12,\"name\":\"Charlotte\",\"mascot\":\"Hornets\",\"abbreviation\":\"CHA\",\"record\":\"19-63\",\"conference\":{\"conference_id\":39,\"sport_id\":4,\"name\":\"Eastern Conference\"},\"division\":{\"division_id\":17,\"conference_id\":39,\"sport_id\":4,\"name\":\"Southeast\"}},{\"team_id\":6,\"name\":\"Chicago\",\"mascot\":\"Bulls\",\"abbreviation\":\"CHI\",\"record\":\"39-43\",\"conference\":{\"conference_id\":39,\"sport_id\":4,\"name\":\"Eastern Conference\"},\"division\":{\"division_id\":16,\"conference_id\":39,\"sport_id\":4,\"name\":\"Central\"}},{\"team_id\":1803,\"name\":\"China\",\"mascot\":\"\",\"abbreviation\":\"CHINA\",\"record\":\"5-5-7\"},{\"team_id\":7,\"name\":\"Cleveland\",\"mascot\":\"Cavaliers\",\"abbreviation\":\"CLE\",\"record\":\"64-18\",\"conference\":{\"conference_id\":39,\"sport_id\":4,\"name\":\"Eastern Conference\"},\"division\":{\"division_id\":16,\"conference_id\":39,\"sport_id\":4,\"name\":\"Central\"}},{\"team_id\":1805,\"name\":\"Croatia\",\"mascot\":\"\",\"abbreviation\":\"CROATIA\",\"record\":\"5-5-7\"},{\"team_id\":26,\"name\":\"Dallas\",\"mascot\":\"Mavericks\",\"abbreviation\":\"DAL\",\"record\":\"39-43\",\"conference\":{\"conference_id\":757,\"sport_id\":4,\"name\":\"Western Conference\"},\"division\":{\"division_id\":20,\"conference_id\":757,\"sport_id\":4,\"name\":\"Southwest\"}},{\"team_id\":16,\"name\":\"Denver\",\"mascot\":\"Nuggets\",\"abbreviation\":\"DEN\",\"record\":\"50-32\",\"conference\":{\"conference_id\":757,\"sport_id\":4,\"name\":\"Western Conference\"},\"division\":{\"division_id\":18,\"conference_id\":757,\"sport_id\":4,\"name\":\"Northwest\"}},{\"team_id\":8,\"name\":\"Detroit\",\"mascot\":\"Pistons\",\"abbreviation\":\"DET\",\"record\":\"44-38\",\"conference\":{\"conference_id\":39,\"sport_id\":4,\"name\":\"Eastern Conference\"},\"division\":{\"division_id\":16,\"conference_id\":39,\"sport_id\":4,\"name\":\"Central\"}},{\"team_id\":3338,\"name\":\"DUR\",\"mascot\":\"Dur\",\"abbreviation\":\"DUR\",\"record\":\"5-5-7\"},{\"team_id\":10653,\"name\":\"Eastern Conf\",\"mascot\":\"All-Stars\",\"abbreviation\":\"EAST\"},{\"team_id\":10444,\"name\":\"Flamengo\",\"mascot\":\"Flamengo\",\"abbreviation\":\"FLMG\"},{\"team_id\":2773,\"name\":\"Franca\",\"mascot\":\"Franca\",\"abbreviation\":\"FBC\",\"record\":\"5-5-7\"},{\"team_id\":21,\"name\":\"Golden State\",\"mascot\":\"Warriors\",\"abbreviation\":\"GS\",\"record\":\"48-34\",\"conference\":{\"conference_id\":757,\"sport_id\":4,\"name\":\"Western Conference\"},\"division\":{\"division_id\":19,\"conference_id\":757,\"sport_id\":4,\"name\":\"Pacific\"}},{\"team_id\":2778,\"name\":\"Guangzhou\",\"mascot\":\"Guangzhou Long-Lions\",\"abbreviation\":\"GUA\",\"record\":\"5-5-7\"},{\"team_id\":2774,\"name\":\"Haifa\",\"mascot\":\"Maccabi Haifa\",\"abbreviation\":\"MCH\",\"record\":\"5-5-7\"},{\"team_id\":11178,\"name\":\"HAPOEL\",\"mascot\":\"Hapoel\",\"abbreviation\":\"\"},{\"team_id\":27,\"name\":\"Houston\",\"mascot\":\"Rockets\",\"abbreviation\":\"HOU\",\"record\":\"52-30\",\"conference\":{\"conference_id\":757,\"sport_id\":4,\"name\":\"Western Conference\"},\"division\":{\"division_id\":20,\"conference_id\":757,\"sport_id\":4,\"name\":\"Southwest\"}},{\"team_id\":9,\"name\":\"Indiana\",\"mascot\":\"Pacers\",\"abbreviation\":\"IND\",\"record\":\"50-32\",\"conference\":{\"conference_id\":39,\"sport_id\":4,\"name\":\"Eastern Conference\"},\"division\":{\"division_id\":16,\"conference_id\":39,\"sport_id\":4,\"name\":\"Central\"}},{\"team_id\":22,\"name\":\"LA\",\"mascot\":\"Clippers\",\"abbreviation\":\"LAC\",\"record\":\"50-32\",\"conference\":{\"conference_id\":757,\"sport_id\":4,\"name\":\"Western Conference\"},\"division\":{\"division_id\":19,\"conference_id\":757,\"sport_id\":4,\"name\":\"Pacific\"}},{\"team_id\":23,\"name\":\"Los Angeles\",\"mascot\":\"Lakers\",\"abbreviation\":\"LAL\",\"record\":\"50-32\",\"conference\":{\"conference_id\":757,\"sport_id\":4,\"name\":\"Western Conference\"},\"division\":{\"division_id\":19,\"conference_id\":757,\"sport_id\":4,\"name\":\"Pacific\"}},{\"team_id\":2781,\"name\":\"Melbourne\",\"mascot\":\"Melbourne United\",\"abbreviation\":\"MEL\",\"record\":\"5-5-7\"},{\"team_id\":28,\"name\":\"Memphis\",\"mascot\":\"Grizzlies\",\"abbreviation\":\"MEM\",\"record\":\"48-34\",\"conference\":{\"conference_id\":757,\"sport_id\":4,\"name\":\"Western Conference\"},\"division\":{\"division_id\":20,\"conference_id\":757,\"sport_id\":4,\"name\":\"Southwest\"}},{\"team_id\":13,\"name\":\"Miami\",\"mascot\":\"Heat\",\"abbreviation\":\"MIA\",\"record\":\"37-45\",\"conference\":{\"conference_id\":39,\"sport_id\":4,\"name\":\"Eastern Conference\"},\"division\":{\"division_id\":17,\"conference_id\":39,\"sport_id\":4,\"name\":\"Southeast\"}},{\"team_id\":10,\"name\":\"Milwaukee\",\"mascot\":\"Bucks\",\"abbreviation\":\"MIL\",\"record\":\"48-34\",\"conference\":{\"conference_id\":39,\"sport_id\":4,\"name\":\"Eastern Conference\"},\"division\":{\"division_id\":16,\"conference_id\":39,\"sport_id\":4,\"name\":\"Central\"}},{\"team_id\":17,\"name\":\"Minnesota\",\"mascot\":\"Timberwolves\",\"abbreviation\":\"MIN\",\"record\":\"49-33\",\"conference\":{\"conference_id\":757,\"sport_id\":4,\"name\":\"Western Conference\"},\"division\":{\"division_id\":18,\"conference_id\":757,\"sport_id\":4,\"name\":\"Northwest\"}},{\"team_id\":29,\"name\":\"New Orleans\",\"mascot\":\"Pelicans\",\"abbreviation\":\"NO\",\"record\":\"21-61\",\"conference\":{\"conference_id\":757,\"sport_id\":4,\"name\":\"Western Conference\"},\"division\":{\"division_id\":20,\"conference_id\":757,\"sport_id\":4,\"name\":\"Southwest\"}},{\"team_id\":3,\"name\":\"New York\",\"mascot\":\"Knicks\",\"abbreviation\":\"NYK\",\"record\":\"51-31\",\"conference\":{\"conference_id\":39,\"sport_id\":4,\"name\":\"Eastern Conference\"},\"division\":{\"division_id\":15,\"conference_id\":39,\"sport_id\":4,\"name\":\"Atlantic\"}},{\"team_id\":2779,\"name\":\"New Zealand\",\"mascot\":\"New Zealand Breakers\",\"abbreviation\":\"NZL\",\"record\":\"5-5-7\"},{\"team_id\":18,\"name\":\"Oklahoma City\",\"mascot\":\"Thunder\",\"abbreviation\":\"OKC\",\"record\":\"68-14\",\"conference\":{\"conference_id\":757,\"sport_id\":4,\"name\":\"Western Conference\"},\"division\":{\"division_id\":18,\"conference_id\":757,\"sport_id\":4,\"name\":\"Northwest\"}},{\"team_id\":14,\"name\":\"Orlando\",\"mascot\":\"Magic\",\"abbreviation\":\"ORL\",\"record\":\"41-41\",\"conference\":{\"conference_id\":39,\"sport_id\":4,\"name\":\"Eastern Conference\"},\"division\":{\"division_id\":17,\"conference_id\":39,\"sport_id\":4,\"name\":\"Southeast\"}},{\"team_id\":4,\"name\":\"Philadelphia\",\"mascot\":\"76ers\",\"abbreviation\":\"PHI\",\"record\":\"24-58\",\"conference\":{\"conference_id\":39,\"sport_id\":4,\"name\":\"Eastern Conference\"},\"division\":{\"division_id\":15,\"conference_id\":39,\"sport_id\":4,\"name\":\"Atlantic\"}},{\"team_id\":24,\"name\":\"Phoenix\",\"mascot\":\"Suns\",\"abbreviation\":\"PHX\",\"record\":\"36-46\",\"conference\":{\"conference_id\":757,\"sport_id\":4,\"name\":\"Western Conference\"},\"division\":{\"division_id\":19,\"conference_id\":757,\"sport_id\":4,\"name\":\"Pacific\"}},{\"team_id\":19,\"name\":\"Portland\",\"mascot\":\"Trailblazers\",\"abbreviation\":\"POR\",\"record\":\"36-46\",\"conference\":{\"conference_id\":757,\"sport_id\":4,\"name\":\"Western Conference\"},\"division\":{\"division_id\":18,\"conference_id\":757,\"sport_id\":4,\"name\":\"Northwest\"}},{\"team_id\":4400,\"name\":\"RA'ANANA\",\"mascot\":\"Ra'Anana\",\"abbreviation\":\"RA'ANANA\",\"record\":\"5-5-7\"},{\"team_id\":10583,\"name\":\"Real\",\"mascot\":\"Madrid\",\"abbreviation\":\"REAL\"},{\"team_id\":25,\"name\":\"Sacramento\",\"mascot\":\"Kings\",\"abbreviation\":\"SAC\",\"record\":\"40-42\",\"conference\":{\"conference_id\":757,\"sport_id\":4,\"name\":\"Western Conference\"},\"division\":{\"division_id\":19,\"conference_id\":757,\"sport_id\":4,\"name\":\"Pacific\"}},{\"team_id\":30,\"name\":\"San Antonio\",\"mascot\":\"Spurs\",\"abbreviation\":\"SA\",\"record\":\"34-48\",\"conference\":{\"conference_id\":757,\"sport_id\":4,\"name\":\"Western Conference\"},\"division\":{\"division_id\":20,\"conference_id\":757,\"sport_id\":4,\"name\":\"Southwest\"}},{\"team_id\":2775,\"name\":\"San Lorenzo\",\"mascot\":\"San Lorenzo\",\"abbreviation\":\"SAN\",\"record\":\"5-5-7\"},{\"team_id\":2777,\"name\":\"Shanghai\",\"mascot\":\"Sharks\",\"abbreviation\":\"SHA\",\"record\":\"5-5-7\"},{\"team_id\":2756,\"name\":\"TBD\",\"mascot\":\"TBD\",\"abbreviation\":\"TBD\"},{\"team_id\":11010,\"name\":\"Team Candace\",\"mascot\":\"Team Candace\",\"abbreviation\":\"CANDACE\"},{\"team_id\":11008,\"name\":\"Team Chuck\",\"mascot\":\"Team Chuck\",\"abbreviation\":\"CHUCK\"},{\"team_id\":3339,\"name\":\"Team Durant\",\"mascot\":\"Team Durant\",\"abbreviation\":\"DURANT\",\"record\":\"5-5-7\"},{\"team_id\":1775,\"name\":\"Team Giannis\",\"mascot\":\"Giannis\",\"abbreviation\":\"GIANNIS\",\"record\":\"5-5-7\"},{\"team_id\":11007,\"name\":\"Team Kenny\",\"mascot\":\"Team Kenny\",\"abbreviation\":\"KENNY\"},{\"team_id\":1774,\"name\":\"Team LeBron\",\"mascot\":\"Team LeBron\",\"abbreviation\":\"LEBRON\",\"record\":\"5-5-7\"},{\"team_id\":11009,\"name\":\"Team Shaq\",\"mascot\":\"Team Shaq\",\"abbreviation\":\"SHAQ\"},{\"team_id\":1773,\"name\":\"Team USA\",\"mascot\":\"USA\",\"abbreviation\":\"USA\",\"record\":\"5-5-7\"},{\"team_id\":1772,\"name\":\"Team World\",\"mascot\":\"World\",\"abbreviation\":\"WORLD\",\"record\":\"5-5-7\"},{\"team_id\":5,\"name\":\"Toronto\",\"mascot\":\"Raptors\",\"abbreviation\":\"TOR\",\"record\":\"30-52\",\"conference\":{\"conference_id\":39,\"sport_id\":4,\"name\":\"Eastern Conference\"},\"division\":{\"division_id\":15,\"conference_id\":39,\"sport_id\":4,\"name\":\"Atlantic\"}},{\"team_id\":10852,\"name\":\"Ulm\",\"mascot\":\"Ulm\",\"abbreviation\":\"\"},{\"team_id\":20,\"name\":\"Utah\",\"mascot\":\"Jazz\",\"abbreviation\":\"UTAH\",\"record\":\"17-65\",\"conference\":{\"conference_id\":757,\"sport_id\":4,\"name\":\"Western Conference\"},\"division\":{\"division_id\":18,\"conference_id\":757,\"sport_id\":4,\"name\":\"Northwest\"}},{\"team_id\":3530,\"name\":\"Utah\",\"mascot\":\"Jazz Blue\",\"abbreviation\":\"UTAH\",\"record\":\"5-5-7\"},{\"team_id\":3531,\"name\":\"Utah\",\"mascot\":\"Jazz White\",\"abbreviation\":\"UTAH\",\"record\":\"5-5-7\"},{\"team_id\":15,\"name\":\"Washington\",\"mascot\":\"Wizards\",\"abbreviation\":\"WSH\",\"record\":\"18-64\",\"conference\":{\"conference_id\":39,\"sport_id\":4,\"name\":\"Eastern Conference\"},\"division\":{\"division_id\":17,\"conference_id\":39,\"sport_id\":4,\"name\":\"Southeast\"}},{\"team_id\":10652,\"name\":\"Western Conf\",\"mascot\":\"All-Stars\",\"abbreviation\":\"WEST\"}]}\n"
     ]
    }
   ],
   "source": [
    "import http.client\n",
    "\n",
    "conn = http.client.HTTPSConnection(\"therundown-therundown-v1.p.rapidapi.com\")\n",
    "\n",
    "headers = {\n",
    "\n",
    "}\n",
    "\n",
    "conn.request(\"GET\", \"/sports/4/teams\", headers=headers)\n",
    "\n",
    "res = conn.getresponse()\n",
    "data = res.read()\n",
    "\n",
    "print(data.decode(\"utf-8\"))"
   ]
  },
  {
   "cell_type": "code",
   "execution_count": null,
   "id": "cdb112fe",
   "metadata": {},
   "outputs": [],
   "source": [
    "nba_team_raw = data.decode(\"utf-8\")\n",
    "nba_team_raw_json = json.loads(nba_team_raw)  # Dạng dict với key 'sports'\n",
    "nba_team_list = nba_team_raw_json[\"teams\"]   # Lấy list sports\n",
    "nba_team_list"
   ]
  },
  {
   "cell_type": "code",
   "execution_count": 53,
   "id": "764e4687",
   "metadata": {},
   "outputs": [
    {
     "data": {
      "text/html": [
       "<div>\n",
       "<style scoped>\n",
       "    .dataframe tbody tr th:only-of-type {\n",
       "        vertical-align: middle;\n",
       "    }\n",
       "\n",
       "    .dataframe tbody tr th {\n",
       "        vertical-align: top;\n",
       "    }\n",
       "\n",
       "    .dataframe thead th {\n",
       "        text-align: right;\n",
       "    }\n",
       "</style>\n",
       "<table border=\"1\" class=\"dataframe\">\n",
       "  <thead>\n",
       "    <tr style=\"text-align: right;\">\n",
       "      <th></th>\n",
       "      <th>team_id</th>\n",
       "      <th>name</th>\n",
       "      <th>mascot</th>\n",
       "      <th>abbreviation</th>\n",
       "      <th>record</th>\n",
       "      <th>conference.conference_id</th>\n",
       "      <th>conference.sport_id</th>\n",
       "      <th>conference.name</th>\n",
       "      <th>division.division_id</th>\n",
       "      <th>division.conference_id</th>\n",
       "      <th>division.sport_id</th>\n",
       "      <th>division.name</th>\n",
       "    </tr>\n",
       "  </thead>\n",
       "  <tbody>\n",
       "    <tr>\n",
       "      <th>0</th>\n",
       "      <td>2776</td>\n",
       "      <td>Adelaide</td>\n",
       "      <td>Adelaide 36ers</td>\n",
       "      <td>ADE</td>\n",
       "      <td>5-5-7</td>\n",
       "      <td>NaN</td>\n",
       "      <td>NaN</td>\n",
       "      <td>NaN</td>\n",
       "      <td>NaN</td>\n",
       "      <td>NaN</td>\n",
       "      <td>NaN</td>\n",
       "      <td>NaN</td>\n",
       "    </tr>\n",
       "    <tr>\n",
       "      <th>1</th>\n",
       "      <td>11</td>\n",
       "      <td>Atlanta</td>\n",
       "      <td>Hawks</td>\n",
       "      <td>ATL</td>\n",
       "      <td>40-42</td>\n",
       "      <td>39.0</td>\n",
       "      <td>4.0</td>\n",
       "      <td>Eastern Conference</td>\n",
       "      <td>17.0</td>\n",
       "      <td>39.0</td>\n",
       "      <td>4.0</td>\n",
       "      <td>Southeast</td>\n",
       "    </tr>\n",
       "    <tr>\n",
       "      <th>2</th>\n",
       "      <td>1</td>\n",
       "      <td>Boston</td>\n",
       "      <td>Celtics</td>\n",
       "      <td>BOS</td>\n",
       "      <td>61-21</td>\n",
       "      <td>39.0</td>\n",
       "      <td>4.0</td>\n",
       "      <td>Eastern Conference</td>\n",
       "      <td>15.0</td>\n",
       "      <td>39.0</td>\n",
       "      <td>4.0</td>\n",
       "      <td>Atlantic</td>\n",
       "    </tr>\n",
       "    <tr>\n",
       "      <th>3</th>\n",
       "      <td>2</td>\n",
       "      <td>Brooklyn</td>\n",
       "      <td>Nets</td>\n",
       "      <td>BKN</td>\n",
       "      <td>26-56</td>\n",
       "      <td>39.0</td>\n",
       "      <td>4.0</td>\n",
       "      <td>Eastern Conference</td>\n",
       "      <td>15.0</td>\n",
       "      <td>39.0</td>\n",
       "      <td>4.0</td>\n",
       "      <td>Atlantic</td>\n",
       "    </tr>\n",
       "    <tr>\n",
       "      <th>4</th>\n",
       "      <td>10443</td>\n",
       "      <td>Cairns</td>\n",
       "      <td>Tiapans</td>\n",
       "      <td>CNS</td>\n",
       "      <td>NaN</td>\n",
       "      <td>NaN</td>\n",
       "      <td>NaN</td>\n",
       "      <td>NaN</td>\n",
       "      <td>NaN</td>\n",
       "      <td>NaN</td>\n",
       "      <td>NaN</td>\n",
       "      <td>NaN</td>\n",
       "    </tr>\n",
       "    <tr>\n",
       "      <th>...</th>\n",
       "      <td>...</td>\n",
       "      <td>...</td>\n",
       "      <td>...</td>\n",
       "      <td>...</td>\n",
       "      <td>...</td>\n",
       "      <td>...</td>\n",
       "      <td>...</td>\n",
       "      <td>...</td>\n",
       "      <td>...</td>\n",
       "      <td>...</td>\n",
       "      <td>...</td>\n",
       "      <td>...</td>\n",
       "    </tr>\n",
       "    <tr>\n",
       "      <th>56</th>\n",
       "      <td>20</td>\n",
       "      <td>Utah</td>\n",
       "      <td>Jazz</td>\n",
       "      <td>UTAH</td>\n",
       "      <td>17-65</td>\n",
       "      <td>757.0</td>\n",
       "      <td>4.0</td>\n",
       "      <td>Western Conference</td>\n",
       "      <td>18.0</td>\n",
       "      <td>757.0</td>\n",
       "      <td>4.0</td>\n",
       "      <td>Northwest</td>\n",
       "    </tr>\n",
       "    <tr>\n",
       "      <th>57</th>\n",
       "      <td>3530</td>\n",
       "      <td>Utah</td>\n",
       "      <td>Jazz Blue</td>\n",
       "      <td>UTAH</td>\n",
       "      <td>5-5-7</td>\n",
       "      <td>NaN</td>\n",
       "      <td>NaN</td>\n",
       "      <td>NaN</td>\n",
       "      <td>NaN</td>\n",
       "      <td>NaN</td>\n",
       "      <td>NaN</td>\n",
       "      <td>NaN</td>\n",
       "    </tr>\n",
       "    <tr>\n",
       "      <th>58</th>\n",
       "      <td>3531</td>\n",
       "      <td>Utah</td>\n",
       "      <td>Jazz White</td>\n",
       "      <td>UTAH</td>\n",
       "      <td>5-5-7</td>\n",
       "      <td>NaN</td>\n",
       "      <td>NaN</td>\n",
       "      <td>NaN</td>\n",
       "      <td>NaN</td>\n",
       "      <td>NaN</td>\n",
       "      <td>NaN</td>\n",
       "      <td>NaN</td>\n",
       "    </tr>\n",
       "    <tr>\n",
       "      <th>59</th>\n",
       "      <td>15</td>\n",
       "      <td>Washington</td>\n",
       "      <td>Wizards</td>\n",
       "      <td>WSH</td>\n",
       "      <td>18-64</td>\n",
       "      <td>39.0</td>\n",
       "      <td>4.0</td>\n",
       "      <td>Eastern Conference</td>\n",
       "      <td>17.0</td>\n",
       "      <td>39.0</td>\n",
       "      <td>4.0</td>\n",
       "      <td>Southeast</td>\n",
       "    </tr>\n",
       "    <tr>\n",
       "      <th>60</th>\n",
       "      <td>10652</td>\n",
       "      <td>Western Conf</td>\n",
       "      <td>All-Stars</td>\n",
       "      <td>WEST</td>\n",
       "      <td>NaN</td>\n",
       "      <td>NaN</td>\n",
       "      <td>NaN</td>\n",
       "      <td>NaN</td>\n",
       "      <td>NaN</td>\n",
       "      <td>NaN</td>\n",
       "      <td>NaN</td>\n",
       "      <td>NaN</td>\n",
       "    </tr>\n",
       "  </tbody>\n",
       "</table>\n",
       "<p>61 rows × 12 columns</p>\n",
       "</div>"
      ],
      "text/plain": [
       "    team_id          name          mascot abbreviation record  \\\n",
       "0      2776      Adelaide  Adelaide 36ers          ADE  5-5-7   \n",
       "1        11       Atlanta           Hawks          ATL  40-42   \n",
       "2         1        Boston         Celtics          BOS  61-21   \n",
       "3         2      Brooklyn            Nets          BKN  26-56   \n",
       "4     10443        Cairns         Tiapans          CNS    NaN   \n",
       "..      ...           ...             ...          ...    ...   \n",
       "56       20          Utah            Jazz         UTAH  17-65   \n",
       "57     3530          Utah       Jazz Blue         UTAH  5-5-7   \n",
       "58     3531          Utah      Jazz White         UTAH  5-5-7   \n",
       "59       15    Washington         Wizards          WSH  18-64   \n",
       "60    10652  Western Conf       All-Stars         WEST    NaN   \n",
       "\n",
       "    conference.conference_id  conference.sport_id     conference.name  \\\n",
       "0                        NaN                  NaN                 NaN   \n",
       "1                       39.0                  4.0  Eastern Conference   \n",
       "2                       39.0                  4.0  Eastern Conference   \n",
       "3                       39.0                  4.0  Eastern Conference   \n",
       "4                        NaN                  NaN                 NaN   \n",
       "..                       ...                  ...                 ...   \n",
       "56                     757.0                  4.0  Western Conference   \n",
       "57                       NaN                  NaN                 NaN   \n",
       "58                       NaN                  NaN                 NaN   \n",
       "59                      39.0                  4.0  Eastern Conference   \n",
       "60                       NaN                  NaN                 NaN   \n",
       "\n",
       "    division.division_id  division.conference_id  division.sport_id  \\\n",
       "0                    NaN                     NaN                NaN   \n",
       "1                   17.0                    39.0                4.0   \n",
       "2                   15.0                    39.0                4.0   \n",
       "3                   15.0                    39.0                4.0   \n",
       "4                    NaN                     NaN                NaN   \n",
       "..                   ...                     ...                ...   \n",
       "56                  18.0                   757.0                4.0   \n",
       "57                   NaN                     NaN                NaN   \n",
       "58                   NaN                     NaN                NaN   \n",
       "59                  17.0                    39.0                4.0   \n",
       "60                   NaN                     NaN                NaN   \n",
       "\n",
       "   division.name  \n",
       "0            NaN  \n",
       "1      Southeast  \n",
       "2       Atlantic  \n",
       "3       Atlantic  \n",
       "4            NaN  \n",
       "..           ...  \n",
       "56     Northwest  \n",
       "57           NaN  \n",
       "58           NaN  \n",
       "59     Southeast  \n",
       "60           NaN  \n",
       "\n",
       "[61 rows x 12 columns]"
      ]
     },
     "execution_count": 53,
     "metadata": {},
     "output_type": "execute_result"
    }
   ],
   "source": [
    "df = pd.json_normalize(nba_team_list)\n",
    "df"
   ]
  },
  {
   "cell_type": "code",
   "execution_count": 55,
   "id": "0c13ae1a",
   "metadata": {},
   "outputs": [],
   "source": [
    "df = df.dropna()"
   ]
  },
  {
   "cell_type": "code",
   "execution_count": 57,
   "id": "40165dce",
   "metadata": {},
   "outputs": [],
   "source": [
    "df.to_csv(\"raw_data/nba_teams.csv\", index=False)"
   ]
  },
  {
   "cell_type": "code",
   "execution_count": null,
   "id": "ec79f082",
   "metadata": {},
   "outputs": [],
   "source": []
  }
 ],
 "metadata": {
  "kernelspec": {
   "display_name": "py_39",
   "language": "python",
   "name": "python3"
  },
  "language_info": {
   "codemirror_mode": {
    "name": "ipython",
    "version": 3
   },
   "file_extension": ".py",
   "mimetype": "text/x-python",
   "name": "python",
   "nbconvert_exporter": "python",
   "pygments_lexer": "ipython3",
   "version": "3.9.23"
  }
 },
 "nbformat": 4,
 "nbformat_minor": 5
}
