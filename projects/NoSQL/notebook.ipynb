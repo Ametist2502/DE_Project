{
 "cells": [
  {
   "cell_type": "markdown",
   "id": "0cb8f24a",
   "metadata": {},
   "source": [
    "#### Create connection to Cassandra"
   ]
  },
  {
   "cell_type": "code",
   "execution_count": 1,
   "id": "a54d5e1b",
   "metadata": {},
   "outputs": [],
   "source": [
    "from cassandra.cluster import Cluster"
   ]
  },
  {
   "cell_type": "code",
   "execution_count": 2,
   "id": "8435f663",
   "metadata": {},
   "outputs": [],
   "source": [
    "# Connect to local cluster\n",
    "cluster = Cluster(['127.0.0.1'], port=9042)\n",
    "session = cluster.connect()"
   ]
  },
  {
   "cell_type": "code",
   "execution_count": 3,
   "id": "f2dfac38",
   "metadata": {},
   "outputs": [
    {
     "name": "stdout",
     "output_type": "stream",
     "text": [
      "Row(release_version='5.0.5')\n"
     ]
    }
   ],
   "source": [
    "rows = session.execute('SELECT release_version FROM system.local')\n",
    "for row in rows:\n",
    "    print(row)"
   ]
  },
  {
   "cell_type": "code",
   "execution_count": 4,
   "id": "2743df96",
   "metadata": {},
   "outputs": [],
   "source": [
    "# Close connection\n",
    "session.shutdown()\n",
    "cluster.shutdown()"
   ]
  },
  {
   "cell_type": "markdown",
   "id": "1d05c60d",
   "metadata": {},
   "source": [
    "#### Getting Data"
   ]
  },
  {
   "cell_type": "code",
   "execution_count": 5,
   "id": "e614d7be",
   "metadata": {},
   "outputs": [],
   "source": [
    "import requests\n",
    "import pandas as pd"
   ]
  },
  {
   "cell_type": "code",
   "execution_count": null,
   "id": "4b28cf8c",
   "metadata": {},
   "outputs": [],
   "source": []
  }
 ],
 "metadata": {
  "kernelspec": {
   "display_name": "DE",
   "language": "python",
   "name": "python3"
  },
  "language_info": {
   "codemirror_mode": {
    "name": "ipython",
    "version": 3
   },
   "file_extension": ".py",
   "mimetype": "text/x-python",
   "name": "python",
   "nbconvert_exporter": "python",
   "pygments_lexer": "ipython3",
   "version": "3.11.8"
  }
 },
 "nbformat": 4,
 "nbformat_minor": 5
}
