{
 "cells": [
  {
   "cell_type": "code",
   "execution_count": null,
   "id": "0d49c5a4",
   "metadata": {},
   "outputs": [
    {
     "name": "stdout",
     "output_type": "stream",
     "text": [
      "{'name': 'Inflation - US Consumer Prices', 'interval': 'annual', 'unit': 'percent', 'data': [{'date': '2024-01-01', 'value': '2.94952520485207'}, {'date': '2023-01-01', 'value': '4.11633838374488'}, {'date': '2022-01-01', 'value': '8.00279982052121'}, {'date': '2021-01-01', 'value': '4.69785886363742'}, {'date': '2020-01-01', 'value': '1.23358439630629'}, {'date': '2019-01-01', 'value': '1.81221007526021'}, {'date': '2018-01-01', 'value': '2.44258329692817'}, {'date': '2017-01-01', 'value': '2.13011000365961'}, {'date': '2016-01-01', 'value': '1.26158320570536'}, {'date': '2015-01-01', 'value': '0.118627135552451'}, {'date': '2014-01-01', 'value': '1.62222297740817'}, {'date': '2013-01-01', 'value': '1.46483265562717'}, {'date': '2012-01-01', 'value': '2.06933726526067'}, {'date': '2011-01-01', 'value': '3.156841568622'}, {'date': '2010-01-01', 'value': '1.6400434423899'}, {'date': '2009-01-01', 'value': '-0.355546266299747'}, {'date': '2008-01-01', 'value': '3.839100296651'}, {'date': '2007-01-01', 'value': '2.85267248150138'}, {'date': '2006-01-01', 'value': '3.22594410070404'}, {'date': '2005-01-01', 'value': '3.3927468454955'}, {'date': '2004-01-01', 'value': '2.67723669309172'}, {'date': '2003-01-01', 'value': '2.27009497336115'}, {'date': '2002-01-01', 'value': '1.58603162650601'}, {'date': '2001-01-01', 'value': '2.82617111885407'}, {'date': '2000-01-01', 'value': '3.37685727149929'}, {'date': '1999-01-01', 'value': '2.18802719697358'}, {'date': '1998-01-01', 'value': '1.55227909874364'}, {'date': '1997-01-01', 'value': '2.33768993730735'}, {'date': '1996-01-01', 'value': '2.93120419993441'}, {'date': '1995-01-01', 'value': '2.80541968853662'}, {'date': '1994-01-01', 'value': '2.60744159215453'}, {'date': '1993-01-01', 'value': '2.95165696638559'}, {'date': '1992-01-01', 'value': '3.02881967814969'}, {'date': '1991-01-01', 'value': '4.23496396453849'}, {'date': '1990-01-01', 'value': '5.39795643990325'}, {'date': '1989-01-01', 'value': '4.82700303008944'}, {'date': '1988-01-01', 'value': '4.07774110744413'}, {'date': '1987-01-01', 'value': '3.6645632175169'}, {'date': '1986-01-01', 'value': '1.89804772234276'}, {'date': '1985-01-01', 'value': '3.54564415209365'}, {'date': '1984-01-01', 'value': '4.30053547523429'}, {'date': '1983-01-01', 'value': '3.21243523316065'}, {'date': '1982-01-01', 'value': '6.13142700027493'}, {'date': '1981-01-01', 'value': '10.3347153402771'}, {'date': '1980-01-01', 'value': '13.5492019749684'}, {'date': '1979-01-01', 'value': '11.2544711292795'}, {'date': '1978-01-01', 'value': '7.63096383885606'}, {'date': '1977-01-01', 'value': '6.5016839947284'}, {'date': '1976-01-01', 'value': '5.74481263549085'}, {'date': '1975-01-01', 'value': '9.14314686496535'}, {'date': '1974-01-01', 'value': '11.0548048048048'}, {'date': '1973-01-01', 'value': '6.17776006377038'}, {'date': '1972-01-01', 'value': '3.27227824655283'}, {'date': '1971-01-01', 'value': '4.29276668813051'}, {'date': '1970-01-01', 'value': '5.83825533848251'}, {'date': '1969-01-01', 'value': '5.46238620028745'}, {'date': '1968-01-01', 'value': '4.27179615288537'}, {'date': '1967-01-01', 'value': '2.77278562259309'}, {'date': '1966-01-01', 'value': '3.0150753768844'}, {'date': '1965-01-01', 'value': '1.58516926383662'}, {'date': '1964-01-01', 'value': '1.27891156462591'}, {'date': '1963-01-01', 'value': '1.23966942148753'}, {'date': '1962-01-01', 'value': '1.19877334820186'}, {'date': '1961-01-01', 'value': '1.07072414764724'}, {'date': '1960-01-01', 'value': '1.45797598627791'}]}\n"
     ]
    }
   ],
   "source": [
    "import requests\n",
    "\n",
    "# replace the \"demo\" apikey below with your own key from https://www.alphavantage.co/support/#api-key\n",
    "# url = 'https://www.alphavantage.co/query?function=CPI&interval=monthly&apikey='\n",
    "url = 'https://www.alphavantage.co/query?function=INFLATION&interval=monthly&apikey='\n",
    "r = requests.get(url)\n",
    "data = r.json()\n",
    "\n",
    "print(data)"
   ]
  },
  {
   "cell_type": "code",
   "execution_count": null,
   "id": "e0492929",
   "metadata": {},
   "outputs": [],
   "source": [
    "https://api.worldbank.org/v2/country/vn/indicator/SP.POP.TOTL?date=2020&format=json"
   ]
  },
  {
   "cell_type": "code",
   "execution_count": 8,
   "id": "450e00d1",
   "metadata": {},
   "outputs": [],
   "source": [
    "base_inflation_url = 'https://api.worldbank.org/v2/country/US/indicator/FP.CPI.TOTL.ZG?date=1950:2023&format=json&page=2'\n",
    "COUNTRY_CODE = 'VNM'\n",
    "START_YEAR = 1950\n",
    "END_YEAR = 2025\n",
    "page = 1"
   ]
  },
  {
   "cell_type": "code",
   "execution_count": 9,
   "id": "54d0dddc",
   "metadata": {},
   "outputs": [],
   "source": [
    "full_url = f'https://api.worldbank.org/v2/country/{COUNTRY_CODE}/indicator/SP.POP.TOTL?date={START_YEAR}:{END_YEAR}&format=json&page={page}'\n",
    "import asyncio\n",
    "import aiohttp\n",
    "import pandas as pd\n",
    "\n",
    "async def fetch_data(session, url):\n",
    "    async with session.get(url) as response:\n",
    "        return await response.json()\n",
    "\n",
    "async def main():\n",
    "    async with aiohttp.ClientSession() as session:\n",
    "        data = await fetch_data(session, full_url)\n",
    "        # df = pd.json_normalize(data)\n",
    "        # print(df)\n",
    "        return data"
   ]
  },
  {
   "cell_type": "code",
   "execution_count": 10,
   "id": "4f74f3a0",
   "metadata": {},
   "outputs": [
    {
     "data": {
      "text/plain": [
       "{'name': 'Inflation - US Consumer Prices',\n",
       " 'interval': 'annual',\n",
       " 'unit': 'percent',\n",
       " 'data': [{'date': '2024-01-01', 'value': '2.94952520485207'},\n",
       "  {'date': '2023-01-01', 'value': '4.11633838374488'},\n",
       "  {'date': '2022-01-01', 'value': '8.00279982052121'},\n",
       "  {'date': '2021-01-01', 'value': '4.69785886363742'},\n",
       "  {'date': '2020-01-01', 'value': '1.23358439630629'},\n",
       "  {'date': '2019-01-01', 'value': '1.81221007526021'},\n",
       "  {'date': '2018-01-01', 'value': '2.44258329692817'},\n",
       "  {'date': '2017-01-01', 'value': '2.13011000365961'},\n",
       "  {'date': '2016-01-01', 'value': '1.26158320570536'},\n",
       "  {'date': '2015-01-01', 'value': '0.118627135552451'},\n",
       "  {'date': '2014-01-01', 'value': '1.62222297740817'},\n",
       "  {'date': '2013-01-01', 'value': '1.46483265562717'},\n",
       "  {'date': '2012-01-01', 'value': '2.06933726526067'},\n",
       "  {'date': '2011-01-01', 'value': '3.156841568622'},\n",
       "  {'date': '2010-01-01', 'value': '1.6400434423899'},\n",
       "  {'date': '2009-01-01', 'value': '-0.355546266299747'},\n",
       "  {'date': '2008-01-01', 'value': '3.839100296651'},\n",
       "  {'date': '2007-01-01', 'value': '2.85267248150138'},\n",
       "  {'date': '2006-01-01', 'value': '3.22594410070404'},\n",
       "  {'date': '2005-01-01', 'value': '3.3927468454955'},\n",
       "  {'date': '2004-01-01', 'value': '2.67723669309172'},\n",
       "  {'date': '2003-01-01', 'value': '2.27009497336115'},\n",
       "  {'date': '2002-01-01', 'value': '1.58603162650601'},\n",
       "  {'date': '2001-01-01', 'value': '2.82617111885407'},\n",
       "  {'date': '2000-01-01', 'value': '3.37685727149929'},\n",
       "  {'date': '1999-01-01', 'value': '2.18802719697358'},\n",
       "  {'date': '1998-01-01', 'value': '1.55227909874364'},\n",
       "  {'date': '1997-01-01', 'value': '2.33768993730735'},\n",
       "  {'date': '1996-01-01', 'value': '2.93120419993441'},\n",
       "  {'date': '1995-01-01', 'value': '2.80541968853662'},\n",
       "  {'date': '1994-01-01', 'value': '2.60744159215453'},\n",
       "  {'date': '1993-01-01', 'value': '2.95165696638559'},\n",
       "  {'date': '1992-01-01', 'value': '3.02881967814969'},\n",
       "  {'date': '1991-01-01', 'value': '4.23496396453849'},\n",
       "  {'date': '1990-01-01', 'value': '5.39795643990325'},\n",
       "  {'date': '1989-01-01', 'value': '4.82700303008944'},\n",
       "  {'date': '1988-01-01', 'value': '4.07774110744413'},\n",
       "  {'date': '1987-01-01', 'value': '3.6645632175169'},\n",
       "  {'date': '1986-01-01', 'value': '1.89804772234276'},\n",
       "  {'date': '1985-01-01', 'value': '3.54564415209365'},\n",
       "  {'date': '1984-01-01', 'value': '4.30053547523429'},\n",
       "  {'date': '1983-01-01', 'value': '3.21243523316065'},\n",
       "  {'date': '1982-01-01', 'value': '6.13142700027493'},\n",
       "  {'date': '1981-01-01', 'value': '10.3347153402771'},\n",
       "  {'date': '1980-01-01', 'value': '13.5492019749684'},\n",
       "  {'date': '1979-01-01', 'value': '11.2544711292795'},\n",
       "  {'date': '1978-01-01', 'value': '7.63096383885606'},\n",
       "  {'date': '1977-01-01', 'value': '6.5016839947284'},\n",
       "  {'date': '1976-01-01', 'value': '5.74481263549085'},\n",
       "  {'date': '1975-01-01', 'value': '9.14314686496535'},\n",
       "  {'date': '1974-01-01', 'value': '11.0548048048048'},\n",
       "  {'date': '1973-01-01', 'value': '6.17776006377038'},\n",
       "  {'date': '1972-01-01', 'value': '3.27227824655283'},\n",
       "  {'date': '1971-01-01', 'value': '4.29276668813051'},\n",
       "  {'date': '1970-01-01', 'value': '5.83825533848251'},\n",
       "  {'date': '1969-01-01', 'value': '5.46238620028745'},\n",
       "  {'date': '1968-01-01', 'value': '4.27179615288537'},\n",
       "  {'date': '1967-01-01', 'value': '2.77278562259309'},\n",
       "  {'date': '1966-01-01', 'value': '3.0150753768844'},\n",
       "  {'date': '1965-01-01', 'value': '1.58516926383662'},\n",
       "  {'date': '1964-01-01', 'value': '1.27891156462591'},\n",
       "  {'date': '1963-01-01', 'value': '1.23966942148753'},\n",
       "  {'date': '1962-01-01', 'value': '1.19877334820186'},\n",
       "  {'date': '1961-01-01', 'value': '1.07072414764724'},\n",
       "  {'date': '1960-01-01', 'value': '1.45797598627791'}]}"
      ]
     },
     "execution_count": 10,
     "metadata": {},
     "output_type": "execute_result"
    }
   ],
   "source": [
    "data"
   ]
  },
  {
   "cell_type": "code",
   "execution_count": null,
   "id": "0c259657",
   "metadata": {},
   "outputs": [],
   "source": []
  },
  {
   "cell_type": "code",
   "execution_count": null,
   "id": "ff78d4f8",
   "metadata": {},
   "outputs": [],
   "source": []
  },
  {
   "cell_type": "code",
   "execution_count": null,
   "id": "001a575f",
   "metadata": {},
   "outputs": [],
   "source": []
  },
  {
   "cell_type": "code",
   "execution_count": null,
   "id": "4ed700d4",
   "metadata": {},
   "outputs": [],
   "source": []
  },
  {
   "cell_type": "code",
   "execution_count": null,
   "id": "6de15420",
   "metadata": {},
   "outputs": [],
   "source": []
  },
  {
   "cell_type": "code",
   "execution_count": null,
   "id": "a14f8466",
   "metadata": {},
   "outputs": [],
   "source": []
  },
  {
   "cell_type": "code",
   "execution_count": null,
   "id": "0a33ad10",
   "metadata": {},
   "outputs": [],
   "source": []
  }
 ],
 "metadata": {
  "kernelspec": {
   "display_name": "DE",
   "language": "python",
   "name": "python3"
  },
  "language_info": {
   "codemirror_mode": {
    "name": "ipython",
    "version": 3
   },
   "file_extension": ".py",
   "mimetype": "text/x-python",
   "name": "python",
   "nbconvert_exporter": "python",
   "pygments_lexer": "ipython3",
   "version": "3.11.8"
  }
 },
 "nbformat": 4,
 "nbformat_minor": 5
}
