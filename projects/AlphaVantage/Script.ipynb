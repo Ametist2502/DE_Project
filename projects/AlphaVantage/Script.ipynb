{
 "cells": [
  {
   "cell_type": "code",
   "execution_count": null,
   "id": "0d49c5a4",
   "metadata": {},
   "outputs": [],
   "source": [
    "import requests\n",
    "\n",
    "# replace the \"demo\" apikey below with your own key from https://www.alphavantage.co/support/#api-key\n",
    "# url = 'https://www.alphavantage.co/query?function=CPI&interval=monthly&apikey='\n",
    "url = 'https://www.alphavantage.co/query?function=INFLATION&interval=monthly&apikey='\n",
    "r = requests.get(url)\n",
    "data = r.json()\n",
    "\n",
    "print(data)"
   ]
  },
  {
   "cell_type": "code",
   "execution_count": null,
   "id": "e0492929",
   "metadata": {},
   "outputs": [],
   "source": [
    "https://api.worldbank.org/v2/country/vn/indicator/SP.POP.TOTL?date=2020&format=json"
   ]
  },
  {
   "cell_type": "code",
   "execution_count": 1,
   "id": "450e00d1",
   "metadata": {},
   "outputs": [],
   "source": [
    "base_inflation_url = 'https://api.worldbank.org/v2/country/US/indicator/FP.CPI.TOTL.ZG?date=1950:2023&format=json&page=2'\n",
    "COUNTRY_CODE = 'USA'\n",
    "START_YEAR = 1950\n",
    "END_YEAR = 2025\n",
    "page = 1"
   ]
  },
  {
   "cell_type": "code",
   "execution_count": 2,
   "id": "54d0dddc",
   "metadata": {},
   "outputs": [],
   "source": [
    "full_url = f'https://api.worldbank.org/v2/country/{COUNTRY_CODE}/indicator/SP.POP.TOTL?date={START_YEAR}:{END_YEAR}&format=json'\n",
    "import asyncio\n",
    "import aiohttp\n",
    "import pandas as pd\n",
    "import json\n",
    "\n",
    "async def fetch_data(session, url):\n",
    "    async with session.get(url) as response:\n",
    "        return await response.json()\n",
    "\n",
    "async def main():\n",
    "    async with aiohttp.ClientSession() as session:\n",
    "        data = await fetch_data(session, full_url)\n",
    "        # df = pd.json_normalize(data)\n",
    "        # print(df)\n",
    "        return data"
   ]
  },
  {
   "cell_type": "code",
   "execution_count": 3,
   "id": "4f74f3a0",
   "metadata": {},
   "outputs": [],
   "source": [
    "import requests\n",
    "response = requests.get(full_url)"
   ]
  },
  {
   "cell_type": "code",
   "execution_count": null,
   "id": "0c259657",
   "metadata": {},
   "outputs": [],
   "source": [
    "type(response.content)"
   ]
  },
  {
   "cell_type": "code",
   "execution_count": null,
   "id": "ff78d4f8",
   "metadata": {},
   "outputs": [],
   "source": [
    "page = response.json()"
   ]
  },
  {
   "cell_type": "code",
   "execution_count": null,
   "id": "001a575f",
   "metadata": {},
   "outputs": [],
   "source": [
    "page[1]"
   ]
  },
  {
   "cell_type": "code",
   "execution_count": 4,
   "id": "4ed700d4",
   "metadata": {},
   "outputs": [],
   "source": [
    "import requests\n",
    "\n",
    "url = \"https://api.worldbank.org/v2/country/USA/indicator/FP.CPI.TOTL.ZG?date=1950:2025&format=json\"\n",
    "r = requests.get(url)\n",
    "data = r.json()[1]  # phần dữ liệu\n"
   ]
  },
  {
   "cell_type": "code",
   "execution_count": 7,
   "id": "6aa3fc6b",
   "metadata": {},
   "outputs": [],
   "source": [
    "data_1 = r.json()[0]  # phần metadata\n",
    "data_2 = r.json()[1]  # phần dữ liệu"
   ]
  },
  {
   "cell_type": "code",
   "execution_count": 11,
   "id": "b2e5c2d1",
   "metadata": {},
   "outputs": [
    {
     "data": {
      "text/html": [
       "<div>\n",
       "<style scoped>\n",
       "    .dataframe tbody tr th:only-of-type {\n",
       "        vertical-align: middle;\n",
       "    }\n",
       "\n",
       "    .dataframe tbody tr th {\n",
       "        vertical-align: top;\n",
       "    }\n",
       "\n",
       "    .dataframe thead th {\n",
       "        text-align: right;\n",
       "    }\n",
       "</style>\n",
       "<table border=\"1\" class=\"dataframe\">\n",
       "  <thead>\n",
       "    <tr style=\"text-align: right;\">\n",
       "      <th></th>\n",
       "      <th>countryiso3code</th>\n",
       "      <th>date</th>\n",
       "      <th>value</th>\n",
       "      <th>unit</th>\n",
       "      <th>obs_status</th>\n",
       "      <th>decimal</th>\n",
       "      <th>indicator.id</th>\n",
       "      <th>indicator.value</th>\n",
       "      <th>country.id</th>\n",
       "      <th>country.value</th>\n",
       "    </tr>\n",
       "  </thead>\n",
       "  <tbody>\n",
       "    <tr>\n",
       "      <th>0</th>\n",
       "      <td>USA</td>\n",
       "      <td>2024</td>\n",
       "      <td>2.949525</td>\n",
       "      <td></td>\n",
       "      <td></td>\n",
       "      <td>1</td>\n",
       "      <td>FP.CPI.TOTL.ZG</td>\n",
       "      <td>Inflation, consumer prices (annual %)</td>\n",
       "      <td>US</td>\n",
       "      <td>United States</td>\n",
       "    </tr>\n",
       "    <tr>\n",
       "      <th>1</th>\n",
       "      <td>USA</td>\n",
       "      <td>2023</td>\n",
       "      <td>4.116338</td>\n",
       "      <td></td>\n",
       "      <td></td>\n",
       "      <td>1</td>\n",
       "      <td>FP.CPI.TOTL.ZG</td>\n",
       "      <td>Inflation, consumer prices (annual %)</td>\n",
       "      <td>US</td>\n",
       "      <td>United States</td>\n",
       "    </tr>\n",
       "    <tr>\n",
       "      <th>2</th>\n",
       "      <td>USA</td>\n",
       "      <td>2022</td>\n",
       "      <td>8.002800</td>\n",
       "      <td></td>\n",
       "      <td></td>\n",
       "      <td>1</td>\n",
       "      <td>FP.CPI.TOTL.ZG</td>\n",
       "      <td>Inflation, consumer prices (annual %)</td>\n",
       "      <td>US</td>\n",
       "      <td>United States</td>\n",
       "    </tr>\n",
       "    <tr>\n",
       "      <th>3</th>\n",
       "      <td>USA</td>\n",
       "      <td>2021</td>\n",
       "      <td>4.697859</td>\n",
       "      <td></td>\n",
       "      <td></td>\n",
       "      <td>1</td>\n",
       "      <td>FP.CPI.TOTL.ZG</td>\n",
       "      <td>Inflation, consumer prices (annual %)</td>\n",
       "      <td>US</td>\n",
       "      <td>United States</td>\n",
       "    </tr>\n",
       "    <tr>\n",
       "      <th>4</th>\n",
       "      <td>USA</td>\n",
       "      <td>2020</td>\n",
       "      <td>1.233584</td>\n",
       "      <td></td>\n",
       "      <td></td>\n",
       "      <td>1</td>\n",
       "      <td>FP.CPI.TOTL.ZG</td>\n",
       "      <td>Inflation, consumer prices (annual %)</td>\n",
       "      <td>US</td>\n",
       "      <td>United States</td>\n",
       "    </tr>\n",
       "  </tbody>\n",
       "</table>\n",
       "</div>"
      ],
      "text/plain": [
       "  countryiso3code  date     value unit obs_status  decimal    indicator.id  \\\n",
       "0             USA  2024  2.949525                        1  FP.CPI.TOTL.ZG   \n",
       "1             USA  2023  4.116338                        1  FP.CPI.TOTL.ZG   \n",
       "2             USA  2022  8.002800                        1  FP.CPI.TOTL.ZG   \n",
       "3             USA  2021  4.697859                        1  FP.CPI.TOTL.ZG   \n",
       "4             USA  2020  1.233584                        1  FP.CPI.TOTL.ZG   \n",
       "\n",
       "                         indicator.value country.id  country.value  \n",
       "0  Inflation, consumer prices (annual %)         US  United States  \n",
       "1  Inflation, consumer prices (annual %)         US  United States  \n",
       "2  Inflation, consumer prices (annual %)         US  United States  \n",
       "3  Inflation, consumer prices (annual %)         US  United States  \n",
       "4  Inflation, consumer prices (annual %)         US  United States  "
      ]
     },
     "execution_count": 11,
     "metadata": {},
     "output_type": "execute_result"
    }
   ],
   "source": [
    "from pandas import json_normalize\n",
    "df = json_normalize(data_2)\n",
    "df.head()"
   ]
  },
  {
   "cell_type": "code",
   "execution_count": 13,
   "id": "d9699978",
   "metadata": {},
   "outputs": [],
   "source": [
    "all_dfs = []  # danh sách chứa các DataFrame của từng trang\n",
    "\n",
    "page_range = data_1['pages']\n",
    "for i in range(1, page_range + 1):\n",
    "    paged_url = url + f'&page={i}'\n",
    "    r = requests.get(paged_url)\n",
    "    data = r.json()[1]\n",
    "    df = json_normalize(data)\n",
    "    all_dfs.append(df)  # Thêm DataFrame vào danh sách\n",
    "\n",
    "final_df = pd.concat(all_dfs, ignore_index=True)"
   ]
  },
  {
   "cell_type": "code",
   "execution_count": 17,
   "id": "6f739e9d",
   "metadata": {},
   "outputs": [
    {
     "name": "stdout",
     "output_type": "stream",
     "text": [
      "(65, 10)\n",
      "<class 'pandas.core.frame.DataFrame'>\n",
      "RangeIndex: 65 entries, 0 to 64\n",
      "Data columns (total 10 columns):\n",
      " #   Column           Non-Null Count  Dtype  \n",
      "---  ------           --------------  -----  \n",
      " 0   countryiso3code  65 non-null     object \n",
      " 1   date             65 non-null     object \n",
      " 2   value            65 non-null     float64\n",
      " 3   unit             65 non-null     object \n",
      " 4   obs_status       65 non-null     object \n",
      " 5   decimal          65 non-null     int64  \n",
      " 6   indicator.id     65 non-null     object \n",
      " 7   indicator.value  65 non-null     object \n",
      " 8   country.id       65 non-null     object \n",
      " 9   country.value    65 non-null     object \n",
      "dtypes: float64(1), int64(1), object(8)\n",
      "memory usage: 5.2+ KB\n",
      "None\n"
     ]
    }
   ],
   "source": [
    "print(final_df.shape)\n",
    "print(final_df.info())"
   ]
  },
  {
   "cell_type": "code",
   "execution_count": 22,
   "id": "6de15420",
   "metadata": {},
   "outputs": [
    {
     "data": {
      "text/html": [
       "<div>\n",
       "<style scoped>\n",
       "    .dataframe tbody tr th:only-of-type {\n",
       "        vertical-align: middle;\n",
       "    }\n",
       "\n",
       "    .dataframe tbody tr th {\n",
       "        vertical-align: top;\n",
       "    }\n",
       "\n",
       "    .dataframe thead th {\n",
       "        text-align: right;\n",
       "    }\n",
       "</style>\n",
       "<table border=\"1\" class=\"dataframe\">\n",
       "  <thead>\n",
       "    <tr style=\"text-align: right;\">\n",
       "      <th></th>\n",
       "      <th>country</th>\n",
       "      <th>alpha_2_code</th>\n",
       "      <th>alpha_3_code</th>\n",
       "      <th>numeric</th>\n",
       "    </tr>\n",
       "  </thead>\n",
       "  <tbody>\n",
       "    <tr>\n",
       "      <th>0</th>\n",
       "      <td>Afghanistan</td>\n",
       "      <td>AF</td>\n",
       "      <td>AFG</td>\n",
       "      <td>4</td>\n",
       "    </tr>\n",
       "    <tr>\n",
       "      <th>1</th>\n",
       "      <td>Åland Islands</td>\n",
       "      <td>AX</td>\n",
       "      <td>ALA</td>\n",
       "      <td>248</td>\n",
       "    </tr>\n",
       "    <tr>\n",
       "      <th>2</th>\n",
       "      <td>Albania</td>\n",
       "      <td>AL</td>\n",
       "      <td>ALB</td>\n",
       "      <td>8</td>\n",
       "    </tr>\n",
       "    <tr>\n",
       "      <th>3</th>\n",
       "      <td>Algeria</td>\n",
       "      <td>DZ</td>\n",
       "      <td>DZA</td>\n",
       "      <td>12</td>\n",
       "    </tr>\n",
       "    <tr>\n",
       "      <th>4</th>\n",
       "      <td>American Samoa</td>\n",
       "      <td>AS</td>\n",
       "      <td>ASM</td>\n",
       "      <td>16</td>\n",
       "    </tr>\n",
       "  </tbody>\n",
       "</table>\n",
       "</div>"
      ],
      "text/plain": [
       "          country alpha_2_code alpha_3_code  numeric\n",
       "0     Afghanistan           AF          AFG        4\n",
       "1   Åland Islands           AX          ALA      248\n",
       "2         Albania           AL          ALB        8\n",
       "3         Algeria           DZ          DZA       12\n",
       "4  American Samoa           AS          ASM       16"
      ]
     },
     "execution_count": 22,
     "metadata": {},
     "output_type": "execute_result"
    }
   ],
   "source": [
    "country_iso_code = pd.read_csv('/home/anhtt1/Workspace/DE/Project/DE_Project/projects/AlphaVantage/data/country_codes.csv')\n",
    "country_iso_code.head()"
   ]
  },
  {
   "cell_type": "code",
   "execution_count": 26,
   "id": "a14f8466",
   "metadata": {},
   "outputs": [],
   "source": [
    "for i in range(country_iso_code.shape[0]):\n",
    "    final_df.loc[final_df['countryiso3code'] == country_iso_code.loc[i, 'alpha_3_code'], 'country_name'] = country_iso_code.loc[i, 'country']"
   ]
  },
  {
   "cell_type": "code",
   "execution_count": null,
   "id": "0a33ad10",
   "metadata": {},
   "outputs": [],
   "source": [
    "import requests\n",
    "import pandas as pd\n",
    "\n",
    "START_YEAR = 1950\n",
    "END_YEAR = 2025\n",
    "\n",
    "for idx in range(country_iso_code.shape[0]):\n",
    "    alpha3 = country_iso_code.loc[idx, 'alpha_3_code']\n",
    "    full_url = f\"https://api.worldbank.org/v2/country/{alpha3}/indicator/SP.POP.TOTL?date={START_YEAR}:{END_YEAR}&format=json\"\n",
    "\n",
    "    r = requests.get(full_url)\n",
    "    json_data = r.json()\n",
    "\n",
    "    # Kiểm tra dữ liệu hợp lệ\n",
    "    if not json_data or len(json_data) < 2 or json_data[1] is None:\n",
    "        print(f\"⚠ Không có dữ liệu cho {alpha3}\")\n",
    "        continue\n",
    "\n",
    "    data_1 = json_data[0]  # metadata\n",
    "    all_dfs = []\n",
    "\n",
    "    # Lấy số trang, mặc định = 1 nếu không có key 'pages'\n",
    "    page_range = data_1.get('pages', 1)\n",
    "\n",
    "    for page in range(1, page_range + 1):\n",
    "        paged_url = full_url + f\"&page={page}\"\n",
    "        r = requests.get(paged_url)\n",
    "        page_json = r.json()\n",
    "\n",
    "        if not page_json or len(page_json) < 2 or page_json[1] is None:\n",
    "            continue\n",
    "\n",
    "        data = page_json[1]\n",
    "        df = pd.json_normalize(data)\n",
    "        all_dfs.append(df)\n",
    "\n",
    "    if all_dfs:  # chỉ concat nếu có dữ liệu\n",
    "        final_df = pd.concat(all_dfs, ignore_index=True)\n",
    "        final_df.to_csv(\n",
    "            f\"/home/anhtt1/Workspace/DE/Project/DE_Project/projects/AlphaVantage/data/{alpha3}_Inflation.csv\",\n",
    "            index=False\n",
    "        )\n",
    "        print(f\"✅ Đã lưu dữ liệu cho {alpha3}\")\n",
    "    else:\n",
    "        print(f\"⚠ Không có dữ liệu hợp lệ cho {alpha3}\")\n"
   ]
  },
  {
   "cell_type": "code",
   "execution_count": null,
   "id": "afa5a1c6",
   "metadata": {},
   "outputs": [],
   "source": []
  }
 ],
 "metadata": {
  "kernelspec": {
   "display_name": "DE",
   "language": "python",
   "name": "python3"
  },
  "language_info": {
   "codemirror_mode": {
    "name": "ipython",
    "version": 3
   },
   "file_extension": ".py",
   "mimetype": "text/x-python",
   "name": "python",
   "nbconvert_exporter": "python",
   "pygments_lexer": "ipython3",
   "version": "3.11.8"
  }
 },
 "nbformat": 4,
 "nbformat_minor": 5
}
